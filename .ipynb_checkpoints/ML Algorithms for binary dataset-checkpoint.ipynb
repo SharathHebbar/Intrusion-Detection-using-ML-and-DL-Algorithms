{
 "cells": [
  {
   "cell_type": "markdown",
   "id": "86372612",
   "metadata": {},
   "source": [
    "## Importing Libraries "
   ]
  },
  {
   "cell_type": "code",
   "execution_count": 22,
   "id": "09d944be",
   "metadata": {},
   "outputs": [],
   "source": [
    "import pandas as pd\n",
    "import numpy as np\n",
    "from statistics import mean\n",
    "from sklearn.metrics import accuracy_score,confusion_matrix,classification_report,precision_score,recall_score,f1_score"
   ]
  },
  {
   "cell_type": "markdown",
   "id": "16cfca4a",
   "metadata": {},
   "source": [
    "### Loading Datasets"
   ]
  },
  {
   "cell_type": "code",
   "execution_count": 23,
   "id": "750bc844",
   "metadata": {},
   "outputs": [
    {
     "data": {
      "text/html": [
       "<div>\n",
       "<style scoped>\n",
       "    .dataframe tbody tr th:only-of-type {\n",
       "        vertical-align: middle;\n",
       "    }\n",
       "\n",
       "    .dataframe tbody tr th {\n",
       "        vertical-align: top;\n",
       "    }\n",
       "\n",
       "    .dataframe thead th {\n",
       "        text-align: right;\n",
       "    }\n",
       "</style>\n",
       "<table border=\"1\" class=\"dataframe\">\n",
       "  <thead>\n",
       "    <tr style=\"text-align: right;\">\n",
       "      <th></th>\n",
       "      <th>duration</th>\n",
       "      <th>src_bytes</th>\n",
       "      <th>dst_bytes</th>\n",
       "      <th>land</th>\n",
       "      <th>wrong_fragment</th>\n",
       "      <th>urgent</th>\n",
       "      <th>hot</th>\n",
       "      <th>num_failed_logins</th>\n",
       "      <th>logged_in</th>\n",
       "      <th>num_compromised</th>\n",
       "      <th>...</th>\n",
       "      <th>dst_host_same_src_port_rate</th>\n",
       "      <th>dst_host_srv_diff_host_rate</th>\n",
       "      <th>dst_host_serror_rate</th>\n",
       "      <th>dst_host_srv_serror_rate</th>\n",
       "      <th>dst_host_rerror_rate</th>\n",
       "      <th>dst_host_srv_rerror_rate</th>\n",
       "      <th>protocol_type</th>\n",
       "      <th>service</th>\n",
       "      <th>flag</th>\n",
       "      <th>label</th>\n",
       "    </tr>\n",
       "  </thead>\n",
       "  <tbody>\n",
       "    <tr>\n",
       "      <th>0</th>\n",
       "      <td>0.0</td>\n",
       "      <td>491.0</td>\n",
       "      <td>0.0</td>\n",
       "      <td>0.0</td>\n",
       "      <td>0.0</td>\n",
       "      <td>0.0</td>\n",
       "      <td>0.0</td>\n",
       "      <td>0.0</td>\n",
       "      <td>0.0</td>\n",
       "      <td>0.0</td>\n",
       "      <td>...</td>\n",
       "      <td>0.17</td>\n",
       "      <td>0.00</td>\n",
       "      <td>0.00</td>\n",
       "      <td>0.00</td>\n",
       "      <td>0.05</td>\n",
       "      <td>0.00</td>\n",
       "      <td>1.0</td>\n",
       "      <td>20.0</td>\n",
       "      <td>9.0</td>\n",
       "      <td>0.0</td>\n",
       "    </tr>\n",
       "    <tr>\n",
       "      <th>1</th>\n",
       "      <td>0.0</td>\n",
       "      <td>146.0</td>\n",
       "      <td>0.0</td>\n",
       "      <td>0.0</td>\n",
       "      <td>0.0</td>\n",
       "      <td>0.0</td>\n",
       "      <td>0.0</td>\n",
       "      <td>0.0</td>\n",
       "      <td>0.0</td>\n",
       "      <td>0.0</td>\n",
       "      <td>...</td>\n",
       "      <td>0.88</td>\n",
       "      <td>0.00</td>\n",
       "      <td>0.00</td>\n",
       "      <td>0.00</td>\n",
       "      <td>0.00</td>\n",
       "      <td>0.00</td>\n",
       "      <td>2.0</td>\n",
       "      <td>44.0</td>\n",
       "      <td>9.0</td>\n",
       "      <td>0.0</td>\n",
       "    </tr>\n",
       "    <tr>\n",
       "      <th>2</th>\n",
       "      <td>0.0</td>\n",
       "      <td>0.0</td>\n",
       "      <td>0.0</td>\n",
       "      <td>0.0</td>\n",
       "      <td>0.0</td>\n",
       "      <td>0.0</td>\n",
       "      <td>0.0</td>\n",
       "      <td>0.0</td>\n",
       "      <td>0.0</td>\n",
       "      <td>0.0</td>\n",
       "      <td>...</td>\n",
       "      <td>0.00</td>\n",
       "      <td>0.00</td>\n",
       "      <td>1.00</td>\n",
       "      <td>1.00</td>\n",
       "      <td>0.00</td>\n",
       "      <td>0.00</td>\n",
       "      <td>1.0</td>\n",
       "      <td>49.0</td>\n",
       "      <td>5.0</td>\n",
       "      <td>1.0</td>\n",
       "    </tr>\n",
       "    <tr>\n",
       "      <th>3</th>\n",
       "      <td>0.0</td>\n",
       "      <td>232.0</td>\n",
       "      <td>8153.0</td>\n",
       "      <td>0.0</td>\n",
       "      <td>0.0</td>\n",
       "      <td>0.0</td>\n",
       "      <td>0.0</td>\n",
       "      <td>0.0</td>\n",
       "      <td>1.0</td>\n",
       "      <td>0.0</td>\n",
       "      <td>...</td>\n",
       "      <td>0.03</td>\n",
       "      <td>0.04</td>\n",
       "      <td>0.03</td>\n",
       "      <td>0.01</td>\n",
       "      <td>0.00</td>\n",
       "      <td>0.01</td>\n",
       "      <td>1.0</td>\n",
       "      <td>24.0</td>\n",
       "      <td>9.0</td>\n",
       "      <td>0.0</td>\n",
       "    </tr>\n",
       "    <tr>\n",
       "      <th>4</th>\n",
       "      <td>0.0</td>\n",
       "      <td>199.0</td>\n",
       "      <td>420.0</td>\n",
       "      <td>0.0</td>\n",
       "      <td>0.0</td>\n",
       "      <td>0.0</td>\n",
       "      <td>0.0</td>\n",
       "      <td>0.0</td>\n",
       "      <td>1.0</td>\n",
       "      <td>0.0</td>\n",
       "      <td>...</td>\n",
       "      <td>0.00</td>\n",
       "      <td>0.00</td>\n",
       "      <td>0.00</td>\n",
       "      <td>0.00</td>\n",
       "      <td>0.00</td>\n",
       "      <td>0.00</td>\n",
       "      <td>1.0</td>\n",
       "      <td>24.0</td>\n",
       "      <td>9.0</td>\n",
       "      <td>0.0</td>\n",
       "    </tr>\n",
       "  </tbody>\n",
       "</table>\n",
       "<p>5 rows × 42 columns</p>\n",
       "</div>"
      ],
      "text/plain": [
       "   duration  src_bytes  dst_bytes  land  wrong_fragment  urgent  hot  \\\n",
       "0       0.0      491.0        0.0   0.0             0.0     0.0  0.0   \n",
       "1       0.0      146.0        0.0   0.0             0.0     0.0  0.0   \n",
       "2       0.0        0.0        0.0   0.0             0.0     0.0  0.0   \n",
       "3       0.0      232.0     8153.0   0.0             0.0     0.0  0.0   \n",
       "4       0.0      199.0      420.0   0.0             0.0     0.0  0.0   \n",
       "\n",
       "   num_failed_logins  logged_in  num_compromised  ...  \\\n",
       "0                0.0        0.0              0.0  ...   \n",
       "1                0.0        0.0              0.0  ...   \n",
       "2                0.0        0.0              0.0  ...   \n",
       "3                0.0        1.0              0.0  ...   \n",
       "4                0.0        1.0              0.0  ...   \n",
       "\n",
       "   dst_host_same_src_port_rate  dst_host_srv_diff_host_rate  \\\n",
       "0                         0.17                         0.00   \n",
       "1                         0.88                         0.00   \n",
       "2                         0.00                         0.00   \n",
       "3                         0.03                         0.04   \n",
       "4                         0.00                         0.00   \n",
       "\n",
       "   dst_host_serror_rate  dst_host_srv_serror_rate  dst_host_rerror_rate  \\\n",
       "0                  0.00                      0.00                  0.05   \n",
       "1                  0.00                      0.00                  0.00   \n",
       "2                  1.00                      1.00                  0.00   \n",
       "3                  0.03                      0.01                  0.00   \n",
       "4                  0.00                      0.00                  0.00   \n",
       "\n",
       "   dst_host_srv_rerror_rate  protocol_type  service  flag  label  \n",
       "0                      0.00            1.0     20.0   9.0    0.0  \n",
       "1                      0.00            2.0     44.0   9.0    0.0  \n",
       "2                      0.00            1.0     49.0   5.0    1.0  \n",
       "3                      0.01            1.0     24.0   9.0    0.0  \n",
       "4                      0.00            1.0     24.0   9.0    0.0  \n",
       "\n",
       "[5 rows x 42 columns]"
      ]
     },
     "execution_count": 23,
     "metadata": {},
     "output_type": "execute_result"
    }
   ],
   "source": [
    "data = pd.read_csv('ids_binary.csv')\n",
    "data.head()"
   ]
  },
  {
   "cell_type": "code",
   "execution_count": 24,
   "id": "b3be2625",
   "metadata": {},
   "outputs": [
    {
     "data": {
      "text/plain": [
       "((160367, 41), (160367,))"
      ]
     },
     "execution_count": 24,
     "metadata": {},
     "output_type": "execute_result"
    }
   ],
   "source": [
    "x = data.iloc[:,0:-1].values\n",
    "y = data.iloc[:,-1].values\n",
    "x.shape,y.shape"
   ]
  },
  {
   "cell_type": "markdown",
   "id": "2af71eba",
   "metadata": {},
   "source": [
    "### splitting the dataset into train test split"
   ]
  },
  {
   "cell_type": "code",
   "execution_count": 25,
   "id": "3f25f4ff",
   "metadata": {},
   "outputs": [],
   "source": [
    "from sklearn.model_selection import train_test_split"
   ]
  },
  {
   "cell_type": "code",
   "execution_count": 26,
   "id": "7198d4ee",
   "metadata": {},
   "outputs": [
    {
     "data": {
      "text/plain": [
       "((120275, 41), (40092, 41), (120275,), (40092,))"
      ]
     },
     "execution_count": 26,
     "metadata": {},
     "output_type": "execute_result"
    }
   ],
   "source": [
    "x_train,x_test,y_train,y_test = train_test_split(x,y)\n",
    "x_train.shape,x_test.shape,y_train.shape,y_test.shape"
   ]
  },
  {
   "cell_type": "code",
   "execution_count": 27,
   "id": "c5fb1558",
   "metadata": {},
   "outputs": [],
   "source": [
    "target_names = ['Normal','Abnormal']"
   ]
  },
  {
   "cell_type": "markdown",
   "id": "99132e6e",
   "metadata": {},
   "source": [
    "# Applying Machine Learning Algorithms"
   ]
  },
  {
   "cell_type": "markdown",
   "id": "e0719b42",
   "metadata": {},
   "source": [
    "## ADABoost"
   ]
  },
  {
   "cell_type": "code",
   "execution_count": 28,
   "id": "b9dd8867",
   "metadata": {},
   "outputs": [],
   "source": [
    "from sklearn.ensemble import AdaBoostClassifier\n",
    "abc = AdaBoostClassifier()"
   ]
  },
  {
   "cell_type": "code",
   "execution_count": 29,
   "id": "7adf3b14",
   "metadata": {},
   "outputs": [
    {
     "data": {
      "text/plain": [
       "AdaBoostClassifier()"
      ]
     },
     "execution_count": 29,
     "metadata": {},
     "output_type": "execute_result"
    }
   ],
   "source": [
    "abc.fit(x_train,y_train)"
   ]
  },
  {
   "cell_type": "markdown",
   "id": "79d49804",
   "metadata": {},
   "source": [
    "### Training accuracy"
   ]
  },
  {
   "cell_type": "code",
   "execution_count": 123,
   "id": "21f3281f",
   "metadata": {},
   "outputs": [
    {
     "data": {
      "text/plain": [
       "0.9635086260652671"
      ]
     },
     "execution_count": 123,
     "metadata": {},
     "output_type": "execute_result"
    }
   ],
   "source": [
    "abc_train_score = abc.score(x_train,y_train)\n",
    "abc_train_score"
   ]
  },
  {
   "cell_type": "markdown",
   "id": "158bee06",
   "metadata": {},
   "source": [
    "### Testing accuracy"
   ]
  },
  {
   "cell_type": "code",
   "execution_count": 125,
   "id": "8a459eab",
   "metadata": {},
   "outputs": [
    {
     "data": {
      "text/plain": [
       "0.9634091589344508"
      ]
     },
     "execution_count": 125,
     "metadata": {},
     "output_type": "execute_result"
    }
   ],
   "source": [
    "abc_test_score = abc.score(x_test,y_test)\n",
    "abc_test_score"
   ]
  },
  {
   "cell_type": "markdown",
   "id": "f5e1de25",
   "metadata": {},
   "source": [
    "### Predicted y values for train and test datas"
   ]
  },
  {
   "cell_type": "code",
   "execution_count": 32,
   "id": "851bd766",
   "metadata": {},
   "outputs": [],
   "source": [
    "abc_y_train = abc.predict(x_train)"
   ]
  },
  {
   "cell_type": "code",
   "execution_count": 33,
   "id": "9a7d41b5",
   "metadata": {},
   "outputs": [],
   "source": [
    "abc_y_test = abc.predict(x_test)\n"
   ]
  },
  {
   "cell_type": "markdown",
   "id": "7e1f8e12",
   "metadata": {},
   "source": [
    "## Confusion matrix"
   ]
  },
  {
   "cell_type": "markdown",
   "id": "9cc19494",
   "metadata": {},
   "source": [
    "### For training"
   ]
  },
  {
   "cell_type": "code",
   "execution_count": 34,
   "id": "22eae873",
   "metadata": {},
   "outputs": [
    {
     "name": "stdout",
     "output_type": "stream",
     "text": [
      "[[57446  1965]\n",
      " [ 2424 58440]]\n"
     ]
    }
   ],
   "source": [
    "print(confusion_matrix(y_train,abc_y_train))"
   ]
  },
  {
   "cell_type": "markdown",
   "id": "5e9a8960",
   "metadata": {},
   "source": [
    "### For testing"
   ]
  },
  {
   "cell_type": "code",
   "execution_count": 35,
   "id": "9696e848",
   "metadata": {},
   "outputs": [
    {
     "name": "stdout",
     "output_type": "stream",
     "text": [
      "[[19106   689]\n",
      " [  778 19519]]\n"
     ]
    }
   ],
   "source": [
    "print(confusion_matrix(y_test,abc_y_test))"
   ]
  },
  {
   "cell_type": "markdown",
   "id": "88bdb3bf",
   "metadata": {},
   "source": [
    "## Classification report"
   ]
  },
  {
   "cell_type": "markdown",
   "id": "1b51eb69",
   "metadata": {},
   "source": [
    "### For training"
   ]
  },
  {
   "cell_type": "code",
   "execution_count": 36,
   "id": "4644824d",
   "metadata": {},
   "outputs": [
    {
     "name": "stdout",
     "output_type": "stream",
     "text": [
      "              precision    recall  f1-score   support\n",
      "\n",
      "      Normal       0.96      0.97      0.96     59411\n",
      "    Abnormal       0.97      0.96      0.96     60864\n",
      "\n",
      "    accuracy                           0.96    120275\n",
      "   macro avg       0.96      0.96      0.96    120275\n",
      "weighted avg       0.96      0.96      0.96    120275\n",
      "\n"
     ]
    }
   ],
   "source": [
    "print(classification_report(y_train,abc_y_train, target_names = target_names))"
   ]
  },
  {
   "cell_type": "markdown",
   "id": "88a15c8f",
   "metadata": {},
   "source": [
    "### For testing"
   ]
  },
  {
   "cell_type": "code",
   "execution_count": 37,
   "id": "9b1cdb1a",
   "metadata": {},
   "outputs": [
    {
     "name": "stdout",
     "output_type": "stream",
     "text": [
      "              precision    recall  f1-score   support\n",
      "\n",
      "      Normal       0.96      0.97      0.96     19795\n",
      "    Abnormal       0.97      0.96      0.96     20297\n",
      "\n",
      "    accuracy                           0.96     40092\n",
      "   macro avg       0.96      0.96      0.96     40092\n",
      "weighted avg       0.96      0.96      0.96     40092\n",
      "\n"
     ]
    }
   ],
   "source": [
    "print(classification_report(y_test,abc_y_test, target_names = target_names))"
   ]
  },
  {
   "cell_type": "markdown",
   "id": "90787335",
   "metadata": {},
   "source": [
    "### Score"
   ]
  },
  {
   "cell_type": "code",
   "execution_count": 38,
   "id": "3d77f3d1",
   "metadata": {},
   "outputs": [
    {
     "name": "stdout",
     "output_type": "stream",
     "text": [
      "\n",
      "Training scores\n",
      "\n",
      "Precision score: 0.9674695803327539\n",
      "Recall score: 0.9601735015772871\n",
      "F1 score: 0.963807733221186\n",
      "\n",
      "Testing scores\n",
      "\n",
      "Precision score: 0.9659045922406968\n",
      "Recall score: 0.9616692121988472\n",
      "F1 score: 0.9637822491050487\n"
     ]
    }
   ],
   "source": [
    "abc_precision_train = precision_score(y_train,abc_y_train)\n",
    "abc_precision_test = precision_score(y_test,abc_y_test)\n",
    "abc_recall_train = recall_score(y_train,abc_y_train)\n",
    "abc_recall_test = recall_score(y_test,abc_y_test)\n",
    "abc_f1_train = f1_score(y_train,abc_y_train)\n",
    "abc_f1_test = f1_score(y_test,abc_y_test)\n",
    "print(\"\\nTraining scores\\n\")\n",
    "print(\"Precision score:\",abc_precision_train)\n",
    "print(\"Recall score:\",abc_recall_train)\n",
    "print(\"F1 score:\",abc_f1_train)\n",
    "print(\"\\nTesting scores\\n\")\n",
    "print(\"Precision score:\",abc_precision_test)\n",
    "print(\"Recall score:\",abc_recall_test)\n",
    "print(\"F1 score:\",abc_f1_test)"
   ]
  },
  {
   "cell_type": "markdown",
   "id": "cef913e8",
   "metadata": {},
   "source": [
    "## K fold Cross Validation"
   ]
  },
  {
   "cell_type": "code",
   "execution_count": 39,
   "id": "2d327fc8",
   "metadata": {},
   "outputs": [],
   "source": [
    "from sklearn.model_selection import KFold"
   ]
  },
  {
   "cell_type": "code",
   "execution_count": 40,
   "id": "1a07f329",
   "metadata": {},
   "outputs": [
    {
     "name": "stdout",
     "output_type": "stream",
     "text": [
      "Train Index:  [ 32074  32075  32076 ... 160364 160365 160366] \n",
      "\n",
      "Test Index:  [    0     1     2 ... 32071 32072 32073]\n",
      "Train Index:  [     0      1      2 ... 160364 160365 160366] \n",
      "\n",
      "Test Index:  [32074 32075 32076 ... 64145 64146 64147]\n",
      "Train Index:  [     0      1      2 ... 160364 160365 160366] \n",
      "\n",
      "Test Index:  [64148 64149 64150 ... 96218 96219 96220]\n",
      "Train Index:  [     0      1      2 ... 160364 160365 160366] \n",
      "\n",
      "Test Index:  [ 96221  96222  96223 ... 128291 128292 128293]\n",
      "Train Index:  [     0      1      2 ... 128291 128292 128293] \n",
      "\n",
      "Test Index:  [128294 128295 128296 ... 160364 160365 160366]\n"
     ]
    }
   ],
   "source": [
    "\n",
    "abc_training_scores = []\n",
    "abc_testing_scores = []\n",
    "best_abc = AdaBoostClassifier()\n",
    "cv = KFold(n_splits=5, shuffle=False)\n",
    "\n",
    "for train_index, test_index in cv.split(x):\n",
    "    print(\"Train Index: \", train_index, \"\\n\")\n",
    "    print(\"Test Index: \", test_index)\n",
    "\n",
    "    X_train, X_test, Y_train, Y_test = x[train_index], x[test_index], y[train_index], y[test_index]\n",
    "    best_abc.fit(X_train, Y_train)\n",
    "    abc_training_scores.append(best_abc.score(X_train, Y_train))\n",
    "    abc_testing_scores.append(best_abc.score(X_test, Y_test))\n"
   ]
  },
  {
   "cell_type": "code",
   "execution_count": 41,
   "id": "4e1a336d",
   "metadata": {},
   "outputs": [
    {
     "data": {
      "text/plain": [
       "[0.9608396405103942,\n",
       " 0.9579088492747071,\n",
       " 0.9589302695371569,\n",
       " 0.9621494380095718,\n",
       " 0.9822049355386846]"
      ]
     },
     "execution_count": 41,
     "metadata": {},
     "output_type": "execute_result"
    }
   ],
   "source": [
    "abc_training_scores"
   ]
  },
  {
   "cell_type": "code",
   "execution_count": 42,
   "id": "8c364052",
   "metadata": {},
   "outputs": [
    {
     "data": {
      "text/plain": [
       "[0.9742782315894494,\n",
       " 0.9701627486437613,\n",
       " 0.9720949084900071,\n",
       " 0.9715960465188788,\n",
       " 0.7879213045240545]"
      ]
     },
     "execution_count": 42,
     "metadata": {},
     "output_type": "execute_result"
    }
   ],
   "source": [
    "abc_testing_scores"
   ]
  },
  {
   "cell_type": "code",
   "execution_count": 43,
   "id": "667b8e27",
   "metadata": {},
   "outputs": [
    {
     "name": "stdout",
     "output_type": "stream",
     "text": [
      "Average Accuracy for training data is :  0.9644066265741029\n",
      "Max Accuracy for training data is :  0.9822049355386846\n",
      "Average Accuracy for testing data is :  0.9352106479532302\n",
      "Max Accuracy for testing data is :  0.9742782315894494\n"
     ]
    }
   ],
   "source": [
    "abc_avg_train = mean(abc_training_scores)\n",
    "abc_avg_test = mean(abc_testing_scores)\n",
    "abc_max_train = max(abc_training_scores)\n",
    "abc_max_test = max(abc_testing_scores)\n",
    "print(\"Average Accuracy for training data is : \",abc_avg_train)\n",
    "print(\"Max Accuracy for training data is : \",abc_max_train)\n",
    "print(\"Average Accuracy for testing data is : \",abc_avg_test)\n",
    "print(\"Max Accuracy for testing data is : \",abc_max_test)"
   ]
  },
  {
   "cell_type": "markdown",
   "id": "43594c4c",
   "metadata": {},
   "source": [
    "## XGBoost"
   ]
  },
  {
   "cell_type": "code",
   "execution_count": 44,
   "id": "89bfe317",
   "metadata": {},
   "outputs": [],
   "source": [
    "from xgboost import XGBClassifier\n",
    "xgbc = XGBClassifier()"
   ]
  },
  {
   "cell_type": "code",
   "execution_count": 45,
   "id": "dd7324e7",
   "metadata": {},
   "outputs": [
    {
     "name": "stderr",
     "output_type": "stream",
     "text": [
      "c:\\users\\hebbar\\appdata\\local\\programs\\python\\python39\\lib\\site-packages\\xgboost\\sklearn.py:1224: UserWarning: The use of label encoder in XGBClassifier is deprecated and will be removed in a future release. To remove this warning, do the following: 1) Pass option use_label_encoder=False when constructing XGBClassifier object; and 2) Encode your labels (y) as integers starting with 0, i.e. 0, 1, 2, ..., [num_class - 1].\n",
      "  warnings.warn(label_encoder_deprecation_msg, UserWarning)\n"
     ]
    },
    {
     "name": "stdout",
     "output_type": "stream",
     "text": [
      "[12:31:45] WARNING: C:/Users/Administrator/workspace/xgboost-win64_release_1.5.1/src/learner.cc:1115: Starting in XGBoost 1.3.0, the default evaluation metric used with the objective 'binary:logistic' was changed from 'error' to 'logloss'. Explicitly set eval_metric if you'd like to restore the old behavior.\n"
     ]
    },
    {
     "data": {
      "text/plain": [
       "XGBClassifier(base_score=0.5, booster='gbtree', colsample_bylevel=1,\n",
       "              colsample_bynode=1, colsample_bytree=1, enable_categorical=False,\n",
       "              gamma=0, gpu_id=-1, importance_type=None,\n",
       "              interaction_constraints='', learning_rate=0.300000012,\n",
       "              max_delta_step=0, max_depth=6, min_child_weight=1, missing=nan,\n",
       "              monotone_constraints='()', n_estimators=100, n_jobs=4,\n",
       "              num_parallel_tree=1, predictor='auto', random_state=0,\n",
       "              reg_alpha=0, reg_lambda=1, scale_pos_weight=1, subsample=1,\n",
       "              tree_method='exact', validate_parameters=1, verbosity=None)"
      ]
     },
     "execution_count": 45,
     "metadata": {},
     "output_type": "execute_result"
    }
   ],
   "source": [
    "xgbc.fit(x_train,y_train)"
   ]
  },
  {
   "cell_type": "markdown",
   "id": "3ce464f1",
   "metadata": {},
   "source": [
    "### Training accuracy"
   ]
  },
  {
   "cell_type": "code",
   "execution_count": 126,
   "id": "1f232ac7",
   "metadata": {},
   "outputs": [
    {
     "data": {
      "text/plain": [
       "0.9988276865516524"
      ]
     },
     "execution_count": 126,
     "metadata": {},
     "output_type": "execute_result"
    }
   ],
   "source": [
    "xgbc_train_score = xgbc.score(x_train,y_train)\n",
    "xgbc_train_score"
   ]
  },
  {
   "cell_type": "markdown",
   "id": "a83e0988",
   "metadata": {},
   "source": [
    "### Testing accuracy"
   ]
  },
  {
   "cell_type": "code",
   "execution_count": 127,
   "id": "890c715f",
   "metadata": {},
   "outputs": [
    {
     "data": {
      "text/plain": [
       "0.9971565399580964"
      ]
     },
     "execution_count": 127,
     "metadata": {},
     "output_type": "execute_result"
    }
   ],
   "source": [
    "xgbc_test_score = xgbc.score(x_test,y_test)\n",
    "xgbc_test_score"
   ]
  },
  {
   "cell_type": "markdown",
   "id": "41e74e68",
   "metadata": {},
   "source": [
    "### Predicted Y values"
   ]
  },
  {
   "cell_type": "code",
   "execution_count": 48,
   "id": "f76e72b8",
   "metadata": {},
   "outputs": [],
   "source": [
    "xgbc_y_train = xgbc.predict(x_train)\n",
    "xgbc_y_test = xgbc.predict(x_test)"
   ]
  },
  {
   "cell_type": "markdown",
   "id": "f6984dbe",
   "metadata": {},
   "source": [
    "## Confusion matrix"
   ]
  },
  {
   "cell_type": "markdown",
   "id": "34ea2322",
   "metadata": {},
   "source": [
    "### For training"
   ]
  },
  {
   "cell_type": "code",
   "execution_count": 49,
   "id": "769d0e67",
   "metadata": {},
   "outputs": [
    {
     "name": "stdout",
     "output_type": "stream",
     "text": [
      "[[59344    67]\n",
      " [   74 60790]]\n"
     ]
    }
   ],
   "source": [
    "print(confusion_matrix(y_train,xgbc_y_train))"
   ]
  },
  {
   "cell_type": "markdown",
   "id": "f870cb9d",
   "metadata": {},
   "source": [
    "### For testing"
   ]
  },
  {
   "cell_type": "code",
   "execution_count": 50,
   "id": "55eba383",
   "metadata": {},
   "outputs": [
    {
     "name": "stdout",
     "output_type": "stream",
     "text": [
      "[[19742    53]\n",
      " [   61 20236]]\n"
     ]
    }
   ],
   "source": [
    "print(confusion_matrix(y_test,xgbc_y_test))"
   ]
  },
  {
   "cell_type": "markdown",
   "id": "cc82284d",
   "metadata": {},
   "source": [
    "### Classification Report"
   ]
  },
  {
   "cell_type": "markdown",
   "id": "98beea94",
   "metadata": {},
   "source": [
    "### For training"
   ]
  },
  {
   "cell_type": "code",
   "execution_count": 51,
   "id": "9652b5f0",
   "metadata": {},
   "outputs": [
    {
     "name": "stdout",
     "output_type": "stream",
     "text": [
      "              precision    recall  f1-score   support\n",
      "\n",
      "      Normal       1.00      1.00      1.00     59411\n",
      "    Abnormal       1.00      1.00      1.00     60864\n",
      "\n",
      "    accuracy                           1.00    120275\n",
      "   macro avg       1.00      1.00      1.00    120275\n",
      "weighted avg       1.00      1.00      1.00    120275\n",
      "\n"
     ]
    }
   ],
   "source": [
    "print(classification_report(y_train,xgbc_y_train, target_names = target_names))"
   ]
  },
  {
   "cell_type": "markdown",
   "id": "450a459f",
   "metadata": {},
   "source": [
    "### For testing"
   ]
  },
  {
   "cell_type": "code",
   "execution_count": 52,
   "id": "5259282d",
   "metadata": {},
   "outputs": [
    {
     "name": "stdout",
     "output_type": "stream",
     "text": [
      "              precision    recall  f1-score   support\n",
      "\n",
      "      Normal       1.00      1.00      1.00     19795\n",
      "    Abnormal       1.00      1.00      1.00     20297\n",
      "\n",
      "    accuracy                           1.00     40092\n",
      "   macro avg       1.00      1.00      1.00     40092\n",
      "weighted avg       1.00      1.00      1.00     40092\n",
      "\n"
     ]
    }
   ],
   "source": [
    "print(classification_report(y_test,xgbc_y_test, target_names = target_names))"
   ]
  },
  {
   "cell_type": "markdown",
   "id": "d89291c6",
   "metadata": {},
   "source": [
    "### Score"
   ]
  },
  {
   "cell_type": "code",
   "execution_count": 53,
   "id": "cffb8052",
   "metadata": {},
   "outputs": [
    {
     "name": "stdout",
     "output_type": "stream",
     "text": [
      "\n",
      "Training scores\n",
      "\n",
      "Precision score: 0.998899058448494\n",
      "Recall score: 0.998784174553102\n",
      "F1 score: 0.998841613197394\n",
      "\n",
      "Testing scores\n",
      "\n",
      "Precision score: 0.9973877470550545\n",
      "Recall score: 0.9969946297482386\n",
      "F1 score: 0.9971911496575173\n"
     ]
    }
   ],
   "source": [
    "xgbc_precision_train = precision_score(y_train,xgbc_y_train)\n",
    "xgbc_precision_test = precision_score(y_test,xgbc_y_test)\n",
    "xgbc_recall_train = recall_score(y_train,xgbc_y_train)\n",
    "xgbc_recall_test = recall_score(y_test,xgbc_y_test)\n",
    "xgbc_f1_train = f1_score(y_train,xgbc_y_train)\n",
    "xgbc_f1_test = f1_score(y_test,xgbc_y_test)\n",
    "print(\"\\nTraining scores\\n\")\n",
    "print(\"Precision score:\",xgbc_precision_train)\n",
    "print(\"Recall score:\",xgbc_recall_train)\n",
    "print(\"F1 score:\",xgbc_f1_train)\n",
    "print(\"\\nTesting scores\\n\")\n",
    "print(\"Precision score:\",xgbc_precision_test)\n",
    "print(\"Recall score:\",xgbc_recall_test)\n",
    "print(\"F1 score:\",xgbc_f1_test)"
   ]
  },
  {
   "cell_type": "markdown",
   "id": "b8f4c138",
   "metadata": {},
   "source": [
    "### K Fold Cross Validation"
   ]
  },
  {
   "cell_type": "code",
   "execution_count": 54,
   "id": "2188816d",
   "metadata": {},
   "outputs": [
    {
     "name": "stdout",
     "output_type": "stream",
     "text": [
      "Train Index:  [ 32074  32075  32076 ... 160364 160365 160366] \n",
      "\n",
      "Test Index:  [    0     1     2 ... 32071 32072 32073]\n"
     ]
    },
    {
     "name": "stderr",
     "output_type": "stream",
     "text": [
      "c:\\users\\hebbar\\appdata\\local\\programs\\python\\python39\\lib\\site-packages\\xgboost\\sklearn.py:1224: UserWarning: The use of label encoder in XGBClassifier is deprecated and will be removed in a future release. To remove this warning, do the following: 1) Pass option use_label_encoder=False when constructing XGBClassifier object; and 2) Encode your labels (y) as integers starting with 0, i.e. 0, 1, 2, ..., [num_class - 1].\n",
      "  warnings.warn(label_encoder_deprecation_msg, UserWarning)\n"
     ]
    },
    {
     "name": "stdout",
     "output_type": "stream",
     "text": [
      "[12:32:11] WARNING: C:/Users/Administrator/workspace/xgboost-win64_release_1.5.1/src/learner.cc:1115: Starting in XGBoost 1.3.0, the default evaluation metric used with the objective 'binary:logistic' was changed from 'error' to 'logloss'. Explicitly set eval_metric if you'd like to restore the old behavior.\n",
      "Train Index:  [     0      1      2 ... 160364 160365 160366] \n",
      "\n",
      "Test Index:  [32074 32075 32076 ... 64145 64146 64147]\n"
     ]
    },
    {
     "name": "stderr",
     "output_type": "stream",
     "text": [
      "c:\\users\\hebbar\\appdata\\local\\programs\\python\\python39\\lib\\site-packages\\xgboost\\sklearn.py:1224: UserWarning: The use of label encoder in XGBClassifier is deprecated and will be removed in a future release. To remove this warning, do the following: 1) Pass option use_label_encoder=False when constructing XGBClassifier object; and 2) Encode your labels (y) as integers starting with 0, i.e. 0, 1, 2, ..., [num_class - 1].\n",
      "  warnings.warn(label_encoder_deprecation_msg, UserWarning)\n"
     ]
    },
    {
     "name": "stdout",
     "output_type": "stream",
     "text": [
      "[12:32:42] WARNING: C:/Users/Administrator/workspace/xgboost-win64_release_1.5.1/src/learner.cc:1115: Starting in XGBoost 1.3.0, the default evaluation metric used with the objective 'binary:logistic' was changed from 'error' to 'logloss'. Explicitly set eval_metric if you'd like to restore the old behavior.\n",
      "Train Index:  [     0      1      2 ... 160364 160365 160366] \n",
      "\n",
      "Test Index:  [64148 64149 64150 ... 96218 96219 96220]\n"
     ]
    },
    {
     "name": "stderr",
     "output_type": "stream",
     "text": [
      "c:\\users\\hebbar\\appdata\\local\\programs\\python\\python39\\lib\\site-packages\\xgboost\\sklearn.py:1224: UserWarning: The use of label encoder in XGBClassifier is deprecated and will be removed in a future release. To remove this warning, do the following: 1) Pass option use_label_encoder=False when constructing XGBClassifier object; and 2) Encode your labels (y) as integers starting with 0, i.e. 0, 1, 2, ..., [num_class - 1].\n",
      "  warnings.warn(label_encoder_deprecation_msg, UserWarning)\n"
     ]
    },
    {
     "name": "stdout",
     "output_type": "stream",
     "text": [
      "[12:33:15] WARNING: C:/Users/Administrator/workspace/xgboost-win64_release_1.5.1/src/learner.cc:1115: Starting in XGBoost 1.3.0, the default evaluation metric used with the objective 'binary:logistic' was changed from 'error' to 'logloss'. Explicitly set eval_metric if you'd like to restore the old behavior.\n",
      "Train Index:  [     0      1      2 ... 160364 160365 160366] \n",
      "\n",
      "Test Index:  [ 96221  96222  96223 ... 128291 128292 128293]\n"
     ]
    },
    {
     "name": "stderr",
     "output_type": "stream",
     "text": [
      "c:\\users\\hebbar\\appdata\\local\\programs\\python\\python39\\lib\\site-packages\\xgboost\\sklearn.py:1224: UserWarning: The use of label encoder in XGBClassifier is deprecated and will be removed in a future release. To remove this warning, do the following: 1) Pass option use_label_encoder=False when constructing XGBClassifier object; and 2) Encode your labels (y) as integers starting with 0, i.e. 0, 1, 2, ..., [num_class - 1].\n",
      "  warnings.warn(label_encoder_deprecation_msg, UserWarning)\n"
     ]
    },
    {
     "name": "stdout",
     "output_type": "stream",
     "text": [
      "[12:33:46] WARNING: C:/Users/Administrator/workspace/xgboost-win64_release_1.5.1/src/learner.cc:1115: Starting in XGBoost 1.3.0, the default evaluation metric used with the objective 'binary:logistic' was changed from 'error' to 'logloss'. Explicitly set eval_metric if you'd like to restore the old behavior.\n",
      "Train Index:  [     0      1      2 ... 128291 128292 128293] \n",
      "\n",
      "Test Index:  [128294 128295 128296 ... 160364 160365 160366]\n"
     ]
    },
    {
     "name": "stderr",
     "output_type": "stream",
     "text": [
      "c:\\users\\hebbar\\appdata\\local\\programs\\python\\python39\\lib\\site-packages\\xgboost\\sklearn.py:1224: UserWarning: The use of label encoder in XGBClassifier is deprecated and will be removed in a future release. To remove this warning, do the following: 1) Pass option use_label_encoder=False when constructing XGBClassifier object; and 2) Encode your labels (y) as integers starting with 0, i.e. 0, 1, 2, ..., [num_class - 1].\n",
      "  warnings.warn(label_encoder_deprecation_msg, UserWarning)\n"
     ]
    },
    {
     "name": "stdout",
     "output_type": "stream",
     "text": [
      "[12:34:14] WARNING: C:/Users/Administrator/workspace/xgboost-win64_release_1.5.1/src/learner.cc:1115: Starting in XGBoost 1.3.0, the default evaluation metric used with the objective 'binary:logistic' was changed from 'error' to 'logloss'. Explicitly set eval_metric if you'd like to restore the old behavior.\n"
     ]
    }
   ],
   "source": [
    "\n",
    "xgbc_training_scores = []\n",
    "xgbc_testing_scores = []\n",
    "best_xgbc = XGBClassifier()\n",
    "cv = KFold(n_splits=5, shuffle=False)\n",
    "\n",
    "for train_index, test_index in cv.split(x):\n",
    "    print(\"Train Index: \", train_index, \"\\n\")\n",
    "    print(\"Test Index: \", test_index)\n",
    "\n",
    "    X_train, X_test, Y_train, Y_test = x[train_index], x[test_index], y[train_index], y[test_index]\n",
    "    best_xgbc.fit(X_train, Y_train)\n",
    "    xgbc_training_scores.append(best_xgbc.score(X_train, Y_train))\n",
    "    xgbc_testing_scores.append(best_xgbc.score(X_test, Y_test))\n"
   ]
  },
  {
   "cell_type": "code",
   "execution_count": 55,
   "id": "5d7759f3",
   "metadata": {},
   "outputs": [
    {
     "data": {
      "text/plain": [
       "[0.9984956310944478,\n",
       " 0.9985190150670731,\n",
       " 0.9984176968525418,\n",
       " 0.9986749185464636,\n",
       " 0.9998674918546464]"
      ]
     },
     "execution_count": 55,
     "metadata": {},
     "output_type": "execute_result"
    }
   ],
   "source": [
    "xgbc_training_scores"
   ]
  },
  {
   "cell_type": "code",
   "execution_count": 56,
   "id": "dbd4800f",
   "metadata": {},
   "outputs": [
    {
     "data": {
      "text/plain": [
       "[0.9986905281536447,\n",
       " 0.9989087734613706,\n",
       " 0.9988775605649611,\n",
       " 0.9988775605649611,\n",
       " 0.9646119789230817]"
      ]
     },
     "execution_count": 56,
     "metadata": {},
     "output_type": "execute_result"
    }
   ],
   "source": [
    "xgbc_testing_scores"
   ]
  },
  {
   "cell_type": "code",
   "execution_count": 57,
   "id": "542c4a82",
   "metadata": {},
   "outputs": [
    {
     "name": "stdout",
     "output_type": "stream",
     "text": [
      "Average Accuracy for training data is :  0.9987949506830346\n",
      "Max Accuracy for training data is :  0.9998674918546464\n",
      "Average Accuracy for testing data is :  0.9919932803336039\n",
      "Max Accuracy for testing data is :  0.9989087734613706\n"
     ]
    }
   ],
   "source": [
    "xgbc_avg_train = mean(xgbc_training_scores)\n",
    "xgbc_avg_test = mean(xgbc_testing_scores)\n",
    "xgbc_max_train = max(xgbc_training_scores)\n",
    "xgbc_max_test = max(xgbc_testing_scores)\n",
    "print(\"Average Accuracy for training data is : \",xgbc_avg_train)\n",
    "print(\"Max Accuracy for training data is : \",xgbc_max_train)\n",
    "print(\"Average Accuracy for testing data is : \",xgbc_avg_test)\n",
    "print(\"Max Accuracy for testing data is : \",xgbc_max_test)"
   ]
  },
  {
   "cell_type": "markdown",
   "id": "9787c1f7",
   "metadata": {},
   "source": [
    "## Random Forest"
   ]
  },
  {
   "cell_type": "code",
   "execution_count": 58,
   "id": "4326f27a",
   "metadata": {},
   "outputs": [],
   "source": [
    "from sklearn.ensemble import RandomForestClassifier\n",
    "rfc = RandomForestClassifier()"
   ]
  },
  {
   "cell_type": "code",
   "execution_count": 59,
   "id": "923c4b16",
   "metadata": {},
   "outputs": [
    {
     "data": {
      "text/plain": [
       "RandomForestClassifier()"
      ]
     },
     "execution_count": 59,
     "metadata": {},
     "output_type": "execute_result"
    }
   ],
   "source": [
    "rfc.fit(x_train,y_train)"
   ]
  },
  {
   "cell_type": "markdown",
   "id": "c0434a7d",
   "metadata": {},
   "source": [
    "### Training accuracy"
   ]
  },
  {
   "cell_type": "code",
   "execution_count": 128,
   "id": "6aa31c97",
   "metadata": {},
   "outputs": [
    {
     "data": {
      "text/plain": [
       "0.9994928289336936"
      ]
     },
     "execution_count": 128,
     "metadata": {},
     "output_type": "execute_result"
    }
   ],
   "source": [
    "rfc_train_score = rfc.score(x_train,y_train)\n",
    "rfc_train_score"
   ]
  },
  {
   "cell_type": "markdown",
   "id": "cb629809",
   "metadata": {},
   "source": [
    "### Testing accuracy"
   ]
  },
  {
   "cell_type": "code",
   "execution_count": 129,
   "id": "2f644db4",
   "metadata": {},
   "outputs": [
    {
     "data": {
      "text/plain": [
       "0.997281253117829"
      ]
     },
     "execution_count": 129,
     "metadata": {},
     "output_type": "execute_result"
    }
   ],
   "source": [
    "rfc_test_score=rfc.score(x_test,y_test)\n",
    "rfc_test_score"
   ]
  },
  {
   "cell_type": "markdown",
   "id": "e7fc898e",
   "metadata": {},
   "source": [
    "### Predicted y values"
   ]
  },
  {
   "cell_type": "code",
   "execution_count": 62,
   "id": "872c8237",
   "metadata": {},
   "outputs": [],
   "source": [
    "rfc_y_train = rfc.predict(x_train)\n",
    "rfc_y_test = rfc.predict(x_test)"
   ]
  },
  {
   "cell_type": "markdown",
   "id": "5c7edd9f",
   "metadata": {},
   "source": [
    "## Confusion matrix"
   ]
  },
  {
   "cell_type": "markdown",
   "id": "87c95b35",
   "metadata": {},
   "source": [
    "### For training"
   ]
  },
  {
   "cell_type": "code",
   "execution_count": 63,
   "id": "1de8282f",
   "metadata": {},
   "outputs": [
    {
     "name": "stdout",
     "output_type": "stream",
     "text": [
      "[[59384    27]\n",
      " [   34 60830]]\n"
     ]
    }
   ],
   "source": [
    "print(confusion_matrix(y_train,rfc_y_train))"
   ]
  },
  {
   "cell_type": "markdown",
   "id": "ae4acc22",
   "metadata": {},
   "source": [
    "### For testing"
   ]
  },
  {
   "cell_type": "code",
   "execution_count": 64,
   "id": "3a4d5f04",
   "metadata": {},
   "outputs": [
    {
     "name": "stdout",
     "output_type": "stream",
     "text": [
      "[[19746    49]\n",
      " [   60 20237]]\n"
     ]
    }
   ],
   "source": [
    "print(confusion_matrix(y_test,rfc_y_test))"
   ]
  },
  {
   "cell_type": "markdown",
   "id": "a7d27d4c",
   "metadata": {},
   "source": [
    "## Classification Report"
   ]
  },
  {
   "cell_type": "markdown",
   "id": "bd447263",
   "metadata": {},
   "source": [
    "### For training"
   ]
  },
  {
   "cell_type": "code",
   "execution_count": 65,
   "id": "7b031d56",
   "metadata": {},
   "outputs": [
    {
     "name": "stdout",
     "output_type": "stream",
     "text": [
      "              precision    recall  f1-score   support\n",
      "\n",
      "      Normal       1.00      1.00      1.00     59411\n",
      "    Abnormal       1.00      1.00      1.00     60864\n",
      "\n",
      "    accuracy                           1.00    120275\n",
      "   macro avg       1.00      1.00      1.00    120275\n",
      "weighted avg       1.00      1.00      1.00    120275\n",
      "\n"
     ]
    }
   ],
   "source": [
    "print(classification_report(y_train,rfc_y_train, target_names = target_names))"
   ]
  },
  {
   "cell_type": "markdown",
   "id": "eea31eda",
   "metadata": {},
   "source": [
    "### For testing"
   ]
  },
  {
   "cell_type": "code",
   "execution_count": 66,
   "id": "da8100e4",
   "metadata": {},
   "outputs": [
    {
     "name": "stdout",
     "output_type": "stream",
     "text": [
      "              precision    recall  f1-score   support\n",
      "\n",
      "      Normal       1.00      1.00      1.00     19795\n",
      "    Abnormal       1.00      1.00      1.00     20297\n",
      "\n",
      "    accuracy                           1.00     40092\n",
      "   macro avg       1.00      1.00      1.00     40092\n",
      "weighted avg       1.00      1.00      1.00     40092\n",
      "\n"
     ]
    }
   ],
   "source": [
    "print(classification_report(y_test,rfc_y_test, target_names = target_names))"
   ]
  },
  {
   "cell_type": "markdown",
   "id": "6ddf962c",
   "metadata": {},
   "source": [
    "### Score"
   ]
  },
  {
   "cell_type": "code",
   "execution_count": 67,
   "id": "9785bb30",
   "metadata": {},
   "outputs": [
    {
     "name": "stdout",
     "output_type": "stream",
     "text": [
      "\n",
      "Training scores\n",
      "\n",
      "Precision score: 0.9995563369867065\n",
      "Recall score: 0.9994413774973712\n",
      "F1 score: 0.9994988539364612\n",
      "\n",
      "Testing scores\n",
      "\n",
      "Precision score: 0.9975845410628019\n",
      "Recall score: 0.9970438981130216\n",
      "F1 score: 0.9973141463174235\n"
     ]
    }
   ],
   "source": [
    "rfc_precision_train = precision_score(y_train,rfc_y_train)\n",
    "rfc_precision_test = precision_score(y_test,rfc_y_test)\n",
    "rfc_recall_train = recall_score(y_train,rfc_y_train)\n",
    "rfc_recall_test = recall_score(y_test,rfc_y_test)\n",
    "rfc_f1_train = f1_score(y_train,rfc_y_train)\n",
    "rfc_f1_test = f1_score(y_test,rfc_y_test)\n",
    "print(\"\\nTraining scores\\n\")\n",
    "print(\"Precision score:\",rfc_precision_train)\n",
    "print(\"Recall score:\",rfc_recall_train)\n",
    "print(\"F1 score:\",rfc_f1_train)\n",
    "print(\"\\nTesting scores\\n\")\n",
    "print(\"Precision score:\",rfc_precision_test)\n",
    "print(\"Recall score:\",rfc_recall_test)\n",
    "print(\"F1 score:\",rfc_f1_test)"
   ]
  },
  {
   "cell_type": "markdown",
   "id": "5369f8c9",
   "metadata": {},
   "source": [
    "### K Fold Cross Validation"
   ]
  },
  {
   "cell_type": "code",
   "execution_count": 68,
   "id": "c1f93280",
   "metadata": {},
   "outputs": [
    {
     "name": "stdout",
     "output_type": "stream",
     "text": [
      "Train Index:  [ 32074  32075  32076 ... 160364 160365 160366] \n",
      "\n",
      "Test Index:  [    0     1     2 ... 32071 32072 32073]\n",
      "Train Index:  [     0      1      2 ... 160364 160365 160366] \n",
      "\n",
      "Test Index:  [32074 32075 32076 ... 64145 64146 64147]\n",
      "Train Index:  [     0      1      2 ... 160364 160365 160366] \n",
      "\n",
      "Test Index:  [64148 64149 64150 ... 96218 96219 96220]\n",
      "Train Index:  [     0      1      2 ... 160364 160365 160366] \n",
      "\n",
      "Test Index:  [ 96221  96222  96223 ... 128291 128292 128293]\n",
      "Train Index:  [     0      1      2 ... 128291 128292 128293] \n",
      "\n",
      "Test Index:  [128294 128295 128296 ... 160364 160365 160366]\n"
     ]
    }
   ],
   "source": [
    "rfc_training_scores = []\n",
    "rfc_testing_scores = []\n",
    "best_rfc = RandomForestClassifier()\n",
    "cv = KFold(n_splits=5, shuffle=False)\n",
    "\n",
    "for train_index, test_index in cv.split(x):\n",
    "    print(\"Train Index: \", train_index, \"\\n\")\n",
    "    print(\"Test Index: \", test_index)\n",
    "\n",
    "    X_train, X_test, Y_train, Y_test = x[train_index], x[test_index], y[train_index], y[test_index]\n",
    "    best_rfc.fit(X_train, Y_train)\n",
    "    rfc_training_scores.append(best_rfc.score(X_train, Y_train))\n",
    "    rfc_testing_scores.append(best_rfc.score(X_test, Y_test))\n"
   ]
  },
  {
   "cell_type": "code",
   "execution_count": 69,
   "id": "dcb7d88f",
   "metadata": {},
   "outputs": [
    {
     "data": {
      "text/plain": [
       "[0.9991425876704108,\n",
       " 0.999134793012869,\n",
       " 0.9991425943535941,\n",
       " 0.9992283349182347,\n",
       " 0.9999454378225014]"
      ]
     },
     "execution_count": 69,
     "metadata": {},
     "output_type": "execute_result"
    }
   ],
   "source": [
    "rfc_training_scores"
   ]
  },
  {
   "cell_type": "code",
   "execution_count": 70,
   "id": "75a43e15",
   "metadata": {},
   "outputs": [
    {
     "data": {
      "text/plain": [
       "[0.9988464176591632,\n",
       " 0.9990023071646816,\n",
       " 0.9989399183113522,\n",
       " 0.9986593084525925,\n",
       " 0.962180026813831]"
      ]
     },
     "execution_count": 70,
     "metadata": {},
     "output_type": "execute_result"
    }
   ],
   "source": [
    "rfc_testing_scores"
   ]
  },
  {
   "cell_type": "code",
   "execution_count": 71,
   "id": "f28d8c54",
   "metadata": {},
   "outputs": [
    {
     "name": "stdout",
     "output_type": "stream",
     "text": [
      "Average Accuracy for training data is :  0.999318749555522\n",
      "Max Accuracy for training data is :  0.9999454378225014\n",
      "Average Accuracy for testing data is :  0.9915255956803241\n",
      "Max Accuracy for testing data is :  0.9990023071646816\n"
     ]
    }
   ],
   "source": [
    "rfc_avg_train = mean(rfc_training_scores)\n",
    "rfc_avg_test = mean(rfc_testing_scores)\n",
    "rfc_max_train = max(rfc_training_scores)\n",
    "rfc_max_test = max(rfc_testing_scores)\n",
    "print(\"Average Accuracy for training data is : \",rfc_avg_train)\n",
    "print(\"Max Accuracy for training data is : \",rfc_max_train)\n",
    "print(\"Average Accuracy for testing data is : \",rfc_avg_test)\n",
    "print(\"Max Accuracy for testing data is : \",rfc_max_test)"
   ]
  },
  {
   "cell_type": "markdown",
   "id": "8ca944c5",
   "metadata": {},
   "source": [
    "## Bernoulli Naive bayes"
   ]
  },
  {
   "cell_type": "code",
   "execution_count": 72,
   "id": "9ec09655",
   "metadata": {},
   "outputs": [],
   "source": [
    "from sklearn.naive_bayes import BernoulliNB\n",
    "bnb = BernoulliNB()"
   ]
  },
  {
   "cell_type": "code",
   "execution_count": 73,
   "id": "638b40e2",
   "metadata": {},
   "outputs": [
    {
     "data": {
      "text/plain": [
       "BernoulliNB()"
      ]
     },
     "execution_count": 73,
     "metadata": {},
     "output_type": "execute_result"
    }
   ],
   "source": [
    "bnb.fit(x_train,y_train)"
   ]
  },
  {
   "cell_type": "markdown",
   "id": "a6402804",
   "metadata": {},
   "source": [
    "### Training accuracy"
   ]
  },
  {
   "cell_type": "code",
   "execution_count": 131,
   "id": "3cfc07ce",
   "metadata": {},
   "outputs": [
    {
     "data": {
      "text/plain": [
       "0.8554811889420079"
      ]
     },
     "execution_count": 131,
     "metadata": {},
     "output_type": "execute_result"
    }
   ],
   "source": [
    "bnb_train_score=bnb.score(x_train,y_train)\n",
    "bnb_train_score"
   ]
  },
  {
   "cell_type": "markdown",
   "id": "b4d9980c",
   "metadata": {},
   "source": [
    "### Testing accuracy"
   ]
  },
  {
   "cell_type": "code",
   "execution_count": 130,
   "id": "4639915e",
   "metadata": {},
   "outputs": [
    {
     "data": {
      "text/plain": [
       "0.8549585952309687"
      ]
     },
     "execution_count": 130,
     "metadata": {},
     "output_type": "execute_result"
    }
   ],
   "source": [
    "bnb_test_score=bnb.score(x_test,y_test)\n",
    "bnb_test_score"
   ]
  },
  {
   "cell_type": "markdown",
   "id": "c8c5cfbe",
   "metadata": {},
   "source": [
    "### Predicting y values"
   ]
  },
  {
   "cell_type": "code",
   "execution_count": 76,
   "id": "621316c6",
   "metadata": {},
   "outputs": [],
   "source": [
    "bnb_y_train = bnb.predict(x_train)\n",
    "bnb_y_test = bnb.predict(x_test)"
   ]
  },
  {
   "cell_type": "markdown",
   "id": "3f6ec17d",
   "metadata": {},
   "source": [
    "## Confusion Matrix"
   ]
  },
  {
   "cell_type": "markdown",
   "id": "386cca46",
   "metadata": {},
   "source": [
    "### For training"
   ]
  },
  {
   "cell_type": "code",
   "execution_count": 77,
   "id": "cde7b4c0",
   "metadata": {},
   "outputs": [
    {
     "name": "stdout",
     "output_type": "stream",
     "text": [
      "[[54831  4580]\n",
      " [12802 48062]]\n"
     ]
    }
   ],
   "source": [
    "print(confusion_matrix(y_train,bnb_y_train))"
   ]
  },
  {
   "cell_type": "markdown",
   "id": "bd4f2295",
   "metadata": {},
   "source": [
    "### For testing"
   ]
  },
  {
   "cell_type": "code",
   "execution_count": 78,
   "id": "6dc25d5f",
   "metadata": {},
   "outputs": [
    {
     "name": "stdout",
     "output_type": "stream",
     "text": [
      "[[18266  1529]\n",
      " [ 4286 16011]]\n"
     ]
    }
   ],
   "source": [
    "print(confusion_matrix(y_test,bnb_y_test))"
   ]
  },
  {
   "cell_type": "markdown",
   "id": "a585f880",
   "metadata": {},
   "source": [
    "## Classification Report"
   ]
  },
  {
   "cell_type": "markdown",
   "id": "088ab076",
   "metadata": {},
   "source": [
    "### For training"
   ]
  },
  {
   "cell_type": "code",
   "execution_count": 79,
   "id": "50af9f1f",
   "metadata": {},
   "outputs": [
    {
     "name": "stdout",
     "output_type": "stream",
     "text": [
      "              precision    recall  f1-score   support\n",
      "\n",
      "      Normal       0.81      0.92      0.86     59411\n",
      "    Abnormal       0.91      0.79      0.85     60864\n",
      "\n",
      "    accuracy                           0.86    120275\n",
      "   macro avg       0.86      0.86      0.86    120275\n",
      "weighted avg       0.86      0.86      0.85    120275\n",
      "\n"
     ]
    }
   ],
   "source": [
    "print(classification_report(y_train,bnb_y_train, target_names=target_names))"
   ]
  },
  {
   "cell_type": "markdown",
   "id": "78c8e430",
   "metadata": {},
   "source": [
    "### For testing"
   ]
  },
  {
   "cell_type": "code",
   "execution_count": 80,
   "id": "771e19a9",
   "metadata": {},
   "outputs": [
    {
     "name": "stdout",
     "output_type": "stream",
     "text": [
      "              precision    recall  f1-score   support\n",
      "\n",
      "      Normal       0.81      0.92      0.86     19795\n",
      "    Abnormal       0.91      0.79      0.85     20297\n",
      "\n",
      "    accuracy                           0.85     40092\n",
      "   macro avg       0.86      0.86      0.85     40092\n",
      "weighted avg       0.86      0.85      0.85     40092\n",
      "\n"
     ]
    }
   ],
   "source": [
    "print(classification_report(y_test,bnb_y_test, target_names=target_names))"
   ]
  },
  {
   "cell_type": "markdown",
   "id": "c73544f1",
   "metadata": {},
   "source": [
    "### Scores"
   ]
  },
  {
   "cell_type": "code",
   "execution_count": 81,
   "id": "9765ad34",
   "metadata": {},
   "outputs": [
    {
     "name": "stdout",
     "output_type": "stream",
     "text": [
      "\n",
      "Training scores\n",
      "\n",
      "Precision score: 0.9129972265491433\n",
      "Recall score: 0.7896621976866456\n",
      "F1 score: 0.8468627209134318\n",
      "\n",
      "Testing scores\n",
      "\n",
      "Precision score: 0.9128278221208665\n",
      "Recall score: 0.7888357885401783\n",
      "F1 score: 0.8463144541057694\n"
     ]
    }
   ],
   "source": [
    "bnb_precision_train = precision_score(y_train,bnb_y_train)\n",
    "bnb_precision_test = precision_score(y_test,bnb_y_test)\n",
    "bnb_recall_train = recall_score(y_train,bnb_y_train)\n",
    "bnb_recall_test = recall_score(y_test,bnb_y_test)\n",
    "bnb_f1_train = f1_score(y_train,bnb_y_train)\n",
    "bnb_f1_test = f1_score(y_test,bnb_y_test)\n",
    "print(\"\\nTraining scores\\n\")\n",
    "print(\"Precision score:\",bnb_precision_train)\n",
    "print(\"Recall score:\",bnb_recall_train)\n",
    "print(\"F1 score:\",bnb_f1_train)\n",
    "print(\"\\nTesting scores\\n\")\n",
    "print(\"Precision score:\",bnb_precision_test)\n",
    "print(\"Recall score:\",bnb_recall_test)\n",
    "print(\"F1 score:\",bnb_f1_test)"
   ]
  },
  {
   "cell_type": "markdown",
   "id": "0f313487",
   "metadata": {},
   "source": [
    "## K Fold Cross Validation"
   ]
  },
  {
   "cell_type": "code",
   "execution_count": 82,
   "id": "7fa37c01",
   "metadata": {},
   "outputs": [
    {
     "name": "stdout",
     "output_type": "stream",
     "text": [
      "Train Index:  [ 32074  32075  32076 ... 160364 160365 160366] \n",
      "\n",
      "Test Index:  [    0     1     2 ... 32071 32072 32073]\n",
      "Train Index:  [     0      1      2 ... 160364 160365 160366] \n",
      "\n",
      "Test Index:  [32074 32075 32076 ... 64145 64146 64147]\n",
      "Train Index:  [     0      1      2 ... 160364 160365 160366] \n",
      "\n",
      "Test Index:  [64148 64149 64150 ... 96218 96219 96220]\n",
      "Train Index:  [     0      1      2 ... 160364 160365 160366] \n",
      "\n",
      "Test Index:  [ 96221  96222  96223 ... 128291 128292 128293]\n",
      "Train Index:  [     0      1      2 ... 128291 128292 128293] \n",
      "\n",
      "Test Index:  [128294 128295 128296 ... 160364 160365 160366]\n"
     ]
    }
   ],
   "source": [
    "bnb_training_scores = []\n",
    "bnb_testing_scores = []\n",
    "best_bnb = BernoulliNB()\n",
    "cv = KFold(n_splits=5, shuffle=False)\n",
    "\n",
    "for train_index, test_index in cv.split(x):\n",
    "    print(\"Train Index: \", train_index, \"\\n\")\n",
    "    print(\"Test Index: \", test_index)\n",
    "\n",
    "    X_train, X_test, Y_train, Y_test = x[train_index], x[test_index], y[train_index], y[test_index]\n",
    "    best_bnb.fit(X_train, Y_train)\n",
    "    bnb_training_scores.append(best_bnb.score(X_train, Y_train))\n",
    "    bnb_testing_scores.append(best_bnb.score(X_test, Y_test))\n"
   ]
  },
  {
   "cell_type": "code",
   "execution_count": 83,
   "id": "25a59f26",
   "metadata": {},
   "outputs": [
    {
     "data": {
      "text/plain": [
       "[0.847762543552649,\n",
       " 0.8481444817721934,\n",
       " 0.8483639141347218,\n",
       " 0.849042044055061,\n",
       " 0.8925514833117683]"
      ]
     },
     "execution_count": 83,
     "metadata": {},
     "output_type": "execute_result"
    }
   ],
   "source": [
    "bnb_training_scores"
   ]
  },
  {
   "cell_type": "code",
   "execution_count": 84,
   "id": "ff5a4257",
   "metadata": {},
   "outputs": [
    {
     "data": {
      "text/plain": [
       "[0.8849535449273555,\n",
       " 0.8832387603666522,\n",
       " 0.8841393072054375,\n",
       " 0.8795871917188913,\n",
       " 0.6912667976179341]"
      ]
     },
     "execution_count": 84,
     "metadata": {},
     "output_type": "execute_result"
    }
   ],
   "source": [
    "bnb_testing_scores"
   ]
  },
  {
   "cell_type": "code",
   "execution_count": 85,
   "id": "e37665b2",
   "metadata": {},
   "outputs": [
    {
     "name": "stdout",
     "output_type": "stream",
     "text": [
      "Average Accuracy for training data is :  0.8571728933652787\n",
      "Max Accuracy for training data is :  0.8925514833117683\n",
      "Average Accuracy for testing data is :  0.8446371203672541\n",
      "Max Accuracy for testing data is :  0.8849535449273555\n"
     ]
    }
   ],
   "source": [
    "bnb_avg_train = mean(bnb_training_scores)\n",
    "bnb_avg_test = mean(bnb_testing_scores)\n",
    "bnb_max_train = max(bnb_training_scores)\n",
    "bnb_max_test = max(bnb_testing_scores)\n",
    "print(\"Average Accuracy for training data is : \",bnb_avg_train)\n",
    "print(\"Max Accuracy for training data is : \",bnb_max_train)\n",
    "print(\"Average Accuracy for testing data is : \",bnb_avg_test)\n",
    "print(\"Max Accuracy for testing data is : \",bnb_max_test)"
   ]
  },
  {
   "cell_type": "markdown",
   "id": "2b2f49b3",
   "metadata": {},
   "source": [
    "## Support Vector Machine"
   ]
  },
  {
   "cell_type": "code",
   "execution_count": 90,
   "id": "47ae4566",
   "metadata": {},
   "outputs": [],
   "source": [
    "from sklearn.svm import LinearSVC\n",
    "svc = LinearSVC()"
   ]
  },
  {
   "cell_type": "code",
   "execution_count": 91,
   "id": "7e5ec042",
   "metadata": {},
   "outputs": [
    {
     "name": "stderr",
     "output_type": "stream",
     "text": [
      "c:\\users\\hebbar\\appdata\\local\\programs\\python\\python39\\lib\\site-packages\\sklearn\\svm\\_base.py:1199: ConvergenceWarning: Liblinear failed to converge, increase the number of iterations.\n",
      "  warnings.warn(\n"
     ]
    },
    {
     "data": {
      "text/plain": [
       "LinearSVC()"
      ]
     },
     "execution_count": 91,
     "metadata": {},
     "output_type": "execute_result"
    }
   ],
   "source": [
    "svc.fit(x_train,y_train)"
   ]
  },
  {
   "cell_type": "markdown",
   "id": "d4af4578",
   "metadata": {},
   "source": [
    "### Training Accuracy"
   ]
  },
  {
   "cell_type": "code",
   "execution_count": 132,
   "id": "9e63a8ba",
   "metadata": {},
   "outputs": [
    {
     "data": {
      "text/plain": [
       "0.7397879858657244"
      ]
     },
     "execution_count": 132,
     "metadata": {},
     "output_type": "execute_result"
    }
   ],
   "source": [
    "svc_train_score=svc.score(x_train,y_train)\n",
    "svc_train_score"
   ]
  },
  {
   "cell_type": "markdown",
   "id": "161f1ab2",
   "metadata": {},
   "source": [
    "### Testing Accurcy"
   ]
  },
  {
   "cell_type": "code",
   "execution_count": 133,
   "id": "917964ec",
   "metadata": {},
   "outputs": [
    {
     "data": {
      "text/plain": [
       "0.7382520203531877"
      ]
     },
     "execution_count": 133,
     "metadata": {},
     "output_type": "execute_result"
    }
   ],
   "source": [
    "svc_test_score=svc.score(x_test,y_test)\n",
    "svc_test_score"
   ]
  },
  {
   "cell_type": "markdown",
   "id": "5e054897",
   "metadata": {},
   "source": [
    "### Predicting y values"
   ]
  },
  {
   "cell_type": "code",
   "execution_count": 94,
   "id": "d998d937",
   "metadata": {},
   "outputs": [],
   "source": [
    "svc_y_train = svc.predict(x_train)\n",
    "svc_y_test = svc.predict(x_test)"
   ]
  },
  {
   "cell_type": "markdown",
   "id": "83db8525",
   "metadata": {},
   "source": [
    "### Confusion Matrix"
   ]
  },
  {
   "cell_type": "markdown",
   "id": "068c7806",
   "metadata": {},
   "source": [
    "### For training "
   ]
  },
  {
   "cell_type": "code",
   "execution_count": 95,
   "id": "7cd6a194",
   "metadata": {},
   "outputs": [
    {
     "name": "stdout",
     "output_type": "stream",
     "text": [
      "[[42791 16620]\n",
      " [14677 46187]]\n"
     ]
    }
   ],
   "source": [
    "print(confusion_matrix(y_train,svc_y_train))"
   ]
  },
  {
   "cell_type": "markdown",
   "id": "1abe351c",
   "metadata": {},
   "source": [
    "### For testing"
   ]
  },
  {
   "cell_type": "code",
   "execution_count": 96,
   "id": "543398af",
   "metadata": {},
   "outputs": [
    {
     "name": "stdout",
     "output_type": "stream",
     "text": [
      "[[14257  5538]\n",
      " [ 4956 15341]]\n"
     ]
    }
   ],
   "source": [
    "print(confusion_matrix(y_test,svc_y_test))"
   ]
  },
  {
   "cell_type": "markdown",
   "id": "c98d3ca3",
   "metadata": {},
   "source": [
    "### Classification Report"
   ]
  },
  {
   "cell_type": "markdown",
   "id": "d504fd1b",
   "metadata": {},
   "source": [
    "### For training"
   ]
  },
  {
   "cell_type": "code",
   "execution_count": 97,
   "id": "802b3bb5",
   "metadata": {},
   "outputs": [
    {
     "name": "stdout",
     "output_type": "stream",
     "text": [
      "              precision    recall  f1-score   support\n",
      "\n",
      "      Normal       0.74      0.72      0.73     59411\n",
      "    Abnormal       0.74      0.76      0.75     60864\n",
      "\n",
      "    accuracy                           0.74    120275\n",
      "   macro avg       0.74      0.74      0.74    120275\n",
      "weighted avg       0.74      0.74      0.74    120275\n",
      "\n"
     ]
    }
   ],
   "source": [
    "print(classification_report(y_train,svc_y_train, target_names=target_names))"
   ]
  },
  {
   "cell_type": "markdown",
   "id": "736a0572",
   "metadata": {},
   "source": [
    "### For testing"
   ]
  },
  {
   "cell_type": "code",
   "execution_count": 98,
   "id": "74f9aeef",
   "metadata": {},
   "outputs": [
    {
     "name": "stdout",
     "output_type": "stream",
     "text": [
      "              precision    recall  f1-score   support\n",
      "\n",
      "      Normal       0.74      0.72      0.73     19795\n",
      "    Abnormal       0.73      0.76      0.75     20297\n",
      "\n",
      "    accuracy                           0.74     40092\n",
      "   macro avg       0.74      0.74      0.74     40092\n",
      "weighted avg       0.74      0.74      0.74     40092\n",
      "\n"
     ]
    }
   ],
   "source": [
    "print(classification_report(y_test,svc_y_test, target_names=target_names))"
   ]
  },
  {
   "cell_type": "markdown",
   "id": "94cc46cc",
   "metadata": {},
   "source": [
    "### Score"
   ]
  },
  {
   "cell_type": "code",
   "execution_count": 99,
   "id": "8c904fb0",
   "metadata": {},
   "outputs": [
    {
     "name": "stdout",
     "output_type": "stream",
     "text": [
      "\n",
      "Training scores\n",
      "\n",
      "Precision score: 0.7353798143519035\n",
      "Recall score: 0.7588558096740273\n",
      "F1 score: 0.746933395864835\n",
      "\n",
      "Testing scores\n",
      "\n",
      "Precision score: 0.7347574117534365\n",
      "Recall score: 0.7558259841355865\n",
      "F1 score: 0.7451428016320187\n"
     ]
    }
   ],
   "source": [
    "svc_precision_train = precision_score(y_train,svc_y_train)\n",
    "svc_precision_test = precision_score(y_test,svc_y_test)\n",
    "svc_recall_train = recall_score(y_train,svc_y_train)\n",
    "svc_recall_test = recall_score(y_test,svc_y_test)\n",
    "svc_f1_train = f1_score(y_train,svc_y_train)\n",
    "svc_f1_test = f1_score(y_test,svc_y_test)\n",
    "print(\"\\nTraining scores\\n\")\n",
    "print(\"Precision score:\",svc_precision_train)\n",
    "print(\"Recall score:\",svc_recall_train)\n",
    "print(\"F1 score:\",svc_f1_train)\n",
    "print(\"\\nTesting scores\\n\")\n",
    "print(\"Precision score:\",svc_precision_test)\n",
    "print(\"Recall score:\",svc_recall_test)\n",
    "print(\"F1 score:\",svc_f1_test)"
   ]
  },
  {
   "cell_type": "markdown",
   "id": "930ffd63",
   "metadata": {},
   "source": [
    "### K Fold Cross Validation"
   ]
  },
  {
   "cell_type": "code",
   "execution_count": 103,
   "id": "c5a856c8",
   "metadata": {},
   "outputs": [
    {
     "name": "stdout",
     "output_type": "stream",
     "text": [
      "Train Index:  [ 32074  32075  32076 ... 160364 160365 160366] \n",
      "\n",
      "Test Index:  [    0     1     2 ... 32071 32072 32073]\n"
     ]
    },
    {
     "name": "stderr",
     "output_type": "stream",
     "text": [
      "c:\\users\\hebbar\\appdata\\local\\programs\\python\\python39\\lib\\site-packages\\sklearn\\svm\\_base.py:1199: ConvergenceWarning: Liblinear failed to converge, increase the number of iterations.\n",
      "  warnings.warn(\n"
     ]
    },
    {
     "name": "stdout",
     "output_type": "stream",
     "text": [
      "Train Index:  [     0      1      2 ... 160364 160365 160366] \n",
      "\n",
      "Test Index:  [32074 32075 32076 ... 64145 64146 64147]\n"
     ]
    },
    {
     "name": "stderr",
     "output_type": "stream",
     "text": [
      "c:\\users\\hebbar\\appdata\\local\\programs\\python\\python39\\lib\\site-packages\\sklearn\\svm\\_base.py:1199: ConvergenceWarning: Liblinear failed to converge, increase the number of iterations.\n",
      "  warnings.warn(\n"
     ]
    },
    {
     "name": "stdout",
     "output_type": "stream",
     "text": [
      "Train Index:  [     0      1      2 ... 160364 160365 160366] \n",
      "\n",
      "Test Index:  [64148 64149 64150 ... 96218 96219 96220]\n"
     ]
    },
    {
     "name": "stderr",
     "output_type": "stream",
     "text": [
      "c:\\users\\hebbar\\appdata\\local\\programs\\python\\python39\\lib\\site-packages\\sklearn\\svm\\_base.py:1199: ConvergenceWarning: Liblinear failed to converge, increase the number of iterations.\n",
      "  warnings.warn(\n"
     ]
    },
    {
     "name": "stdout",
     "output_type": "stream",
     "text": [
      "Train Index:  [     0      1      2 ... 160364 160365 160366] \n",
      "\n",
      "Test Index:  [ 96221  96222  96223 ... 128291 128292 128293]\n"
     ]
    },
    {
     "name": "stderr",
     "output_type": "stream",
     "text": [
      "c:\\users\\hebbar\\appdata\\local\\programs\\python\\python39\\lib\\site-packages\\sklearn\\svm\\_base.py:1199: ConvergenceWarning: Liblinear failed to converge, increase the number of iterations.\n",
      "  warnings.warn(\n"
     ]
    },
    {
     "name": "stdout",
     "output_type": "stream",
     "text": [
      "Train Index:  [     0      1      2 ... 128291 128292 128293] \n",
      "\n",
      "Test Index:  [128294 128295 128296 ... 160364 160365 160366]\n"
     ]
    },
    {
     "name": "stderr",
     "output_type": "stream",
     "text": [
      "c:\\users\\hebbar\\appdata\\local\\programs\\python\\python39\\lib\\site-packages\\sklearn\\svm\\_base.py:1199: ConvergenceWarning: Liblinear failed to converge, increase the number of iterations.\n",
      "  warnings.warn(\n"
     ]
    }
   ],
   "source": [
    "svc_training_scores = []\n",
    "svc_testing_scores = []\n",
    "best_svc = LinearSVC()\n",
    "cv = KFold(n_splits=5, shuffle=False)\n",
    "\n",
    "for train_index, test_index in cv.split(x):\n",
    "    print(\"Train Index: \", train_index, \"\\n\")\n",
    "    print(\"Test Index: \", test_index)\n",
    "\n",
    "    X_train, X_test, Y_train, Y_test = x[train_index], x[test_index], y[train_index], y[test_index]\n",
    "    best_svc.fit(X_train, Y_train)\n",
    "    svc_training_scores.append(best_svc.score(X_train, Y_train))\n",
    "    svc_testing_scores.append(best_svc.score(X_test, Y_test))\n"
   ]
  },
  {
   "cell_type": "code",
   "execution_count": 106,
   "id": "1bc28a89",
   "metadata": {},
   "outputs": [
    {
     "data": {
      "text/plain": [
       "[0.8384713117629177,\n",
       " 0.7457382709890641,\n",
       " 0.8674217032752896,\n",
       " 0.8252139616817622,\n",
       " 0.9369495066020235]"
      ]
     },
     "execution_count": 106,
     "metadata": {},
     "output_type": "execute_result"
    }
   ],
   "source": [
    "svc_training_scores"
   ]
  },
  {
   "cell_type": "code",
   "execution_count": 107,
   "id": "13d6c35b",
   "metadata": {},
   "outputs": [
    {
     "data": {
      "text/plain": [
       "[0.8356301053813058,\n",
       " 0.7501714784560704,\n",
       " 0.9240482648957067,\n",
       " 0.8848564212889346,\n",
       " 0.6869952919901475]"
      ]
     },
     "execution_count": 107,
     "metadata": {},
     "output_type": "execute_result"
    }
   ],
   "source": [
    "svc_testing_scores"
   ]
  },
  {
   "cell_type": "code",
   "execution_count": 108,
   "id": "a842aaf3",
   "metadata": {},
   "outputs": [
    {
     "name": "stdout",
     "output_type": "stream",
     "text": [
      "Average Accuracy for training data is :  0.8427589508622114\n",
      "Max Accuracy for training data is :  0.9369495066020235\n",
      "Average Accuracy for testing data is :  0.816340312402433\n",
      "Max Accuracy for testing data is :  0.9240482648957067\n"
     ]
    }
   ],
   "source": [
    "svc_avg_train = mean(svc_training_scores)\n",
    "svc_avg_test = mean(svc_testing_scores)\n",
    "svc_max_train = max(svc_training_scores)\n",
    "svc_max_test = max(svc_testing_scores)\n",
    "\n",
    "print(\"Average Accuracy for training data is : \",svc_avg_train)\n",
    "print(\"Max Accuracy for training data is : \",svc_max_train)\n",
    "print(\"Average Accuracy for testing data is : \",svc_avg_test)\n",
    "print(\"Max Accuracy for testing data is : \",svc_max_test)"
   ]
  },
  {
   "cell_type": "markdown",
   "id": "b22e849c",
   "metadata": {},
   "source": [
    "## Logistic Regression"
   ]
  },
  {
   "cell_type": "code",
   "execution_count": 109,
   "id": "bae669db",
   "metadata": {},
   "outputs": [
    {
     "name": "stderr",
     "output_type": "stream",
     "text": [
      "c:\\users\\hebbar\\appdata\\local\\programs\\python\\python39\\lib\\site-packages\\sklearn\\linear_model\\_logistic.py:814: ConvergenceWarning: lbfgs failed to converge (status=1):\n",
      "STOP: TOTAL NO. of ITERATIONS REACHED LIMIT.\n",
      "\n",
      "Increase the number of iterations (max_iter) or scale the data as shown in:\n",
      "    https://scikit-learn.org/stable/modules/preprocessing.html\n",
      "Please also refer to the documentation for alternative solver options:\n",
      "    https://scikit-learn.org/stable/modules/linear_model.html#logistic-regression\n",
      "  n_iter_i = _check_optimize_result(\n"
     ]
    },
    {
     "data": {
      "text/plain": [
       "LogisticRegression()"
      ]
     },
     "execution_count": 109,
     "metadata": {},
     "output_type": "execute_result"
    }
   ],
   "source": [
    "from sklearn.linear_model import LogisticRegression\n",
    "lr = LogisticRegression()\n",
    "lr.fit(x_train,y_train)"
   ]
  },
  {
   "cell_type": "markdown",
   "id": "7f4313b6",
   "metadata": {},
   "source": [
    "### Training accuracy"
   ]
  },
  {
   "cell_type": "code",
   "execution_count": 110,
   "id": "dc50fd35",
   "metadata": {},
   "outputs": [
    {
     "data": {
      "text/plain": [
       "0.8130118478486801"
      ]
     },
     "execution_count": 110,
     "metadata": {},
     "output_type": "execute_result"
    }
   ],
   "source": [
    "lr_train_score = lr.score(x_train,y_train)\n",
    "lr_train_score"
   ]
  },
  {
   "cell_type": "markdown",
   "id": "ff8f6f2e",
   "metadata": {},
   "source": [
    "### Testing accuracy"
   ]
  },
  {
   "cell_type": "code",
   "execution_count": 112,
   "id": "b0c18a5b",
   "metadata": {},
   "outputs": [
    {
     "data": {
      "text/plain": [
       "0.8148757856929063"
      ]
     },
     "execution_count": 112,
     "metadata": {},
     "output_type": "execute_result"
    }
   ],
   "source": [
    "lr_test_score = lr.score(x_test,y_test)\n",
    "lr_test_score"
   ]
  },
  {
   "cell_type": "markdown",
   "id": "5240ea6e",
   "metadata": {},
   "source": [
    "### Predicting y values"
   ]
  },
  {
   "cell_type": "code",
   "execution_count": 113,
   "id": "afef0f4f",
   "metadata": {},
   "outputs": [],
   "source": [
    "lr_y_train = lr.predict(x_train)\n",
    "lr_y_test = lr.predict(x_test)"
   ]
  },
  {
   "cell_type": "markdown",
   "id": "c1d0205f",
   "metadata": {},
   "source": [
    "## Confusion Matrix"
   ]
  },
  {
   "cell_type": "markdown",
   "id": "f5c18796",
   "metadata": {},
   "source": [
    "### For training "
   ]
  },
  {
   "cell_type": "code",
   "execution_count": 114,
   "id": "90b6233c",
   "metadata": {},
   "outputs": [
    {
     "name": "stdout",
     "output_type": "stream",
     "text": [
      "[[49669  9742]\n",
      " [12748 48116]]\n"
     ]
    }
   ],
   "source": [
    "print(confusion_matrix(y_train,lr_y_train))"
   ]
  },
  {
   "cell_type": "markdown",
   "id": "a3d35049",
   "metadata": {},
   "source": [
    "### For testing "
   ]
  },
  {
   "cell_type": "code",
   "execution_count": 115,
   "id": "d8666583",
   "metadata": {},
   "outputs": [
    {
     "name": "stdout",
     "output_type": "stream",
     "text": [
      "[[16504  3291]\n",
      " [ 4131 16166]]\n"
     ]
    }
   ],
   "source": [
    "print(confusion_matrix(y_test,lr_y_test))"
   ]
  },
  {
   "cell_type": "markdown",
   "id": "b7e8747c",
   "metadata": {},
   "source": [
    "## Classification report"
   ]
  },
  {
   "cell_type": "markdown",
   "id": "408211ca",
   "metadata": {},
   "source": [
    "### For training"
   ]
  },
  {
   "cell_type": "code",
   "execution_count": 116,
   "id": "472d1922",
   "metadata": {},
   "outputs": [
    {
     "name": "stdout",
     "output_type": "stream",
     "text": [
      "              precision    recall  f1-score   support\n",
      "\n",
      "      Normal       0.80      0.84      0.82     59411\n",
      "    Abnormal       0.83      0.79      0.81     60864\n",
      "\n",
      "    accuracy                           0.81    120275\n",
      "   macro avg       0.81      0.81      0.81    120275\n",
      "weighted avg       0.81      0.81      0.81    120275\n",
      "\n"
     ]
    }
   ],
   "source": [
    "print(classification_report(y_train,lr_y_train,target_names = target_names))"
   ]
  },
  {
   "cell_type": "markdown",
   "id": "12f9318f",
   "metadata": {},
   "source": [
    "### For testing"
   ]
  },
  {
   "cell_type": "code",
   "execution_count": 117,
   "id": "b050d1ba",
   "metadata": {},
   "outputs": [
    {
     "name": "stdout",
     "output_type": "stream",
     "text": [
      "              precision    recall  f1-score   support\n",
      "\n",
      "      Normal       0.80      0.83      0.82     19795\n",
      "    Abnormal       0.83      0.80      0.81     20297\n",
      "\n",
      "    accuracy                           0.81     40092\n",
      "   macro avg       0.82      0.82      0.81     40092\n",
      "weighted avg       0.82      0.81      0.81     40092\n",
      "\n"
     ]
    }
   ],
   "source": [
    "print(classification_report(y_test,lr_y_test,target_names = target_names))"
   ]
  },
  {
   "cell_type": "markdown",
   "id": "8a7f1954",
   "metadata": {},
   "source": [
    "### Score"
   ]
  },
  {
   "cell_type": "code",
   "execution_count": 118,
   "id": "75d23c73",
   "metadata": {},
   "outputs": [
    {
     "name": "stdout",
     "output_type": "stream",
     "text": [
      "\n",
      "Training scores\n",
      "\n",
      "Precision score: 0.8316222475716409\n",
      "Recall score: 0.7905494216614091\n",
      "F1 score: 0.8105658597395596\n",
      "\n",
      "Testing scores\n",
      "\n",
      "Precision score: 0.8308577889705504\n",
      "Recall score: 0.7964723850815392\n",
      "F1 score: 0.8133018061075614\n"
     ]
    }
   ],
   "source": [
    "lr_precision_train = precision_score(y_train,lr_y_train)\n",
    "lr_precision_test = precision_score(y_test,lr_y_test)\n",
    "lr_recall_train = recall_score(y_train,lr_y_train)\n",
    "lr_recall_test = recall_score(y_test,lr_y_test)\n",
    "lr_f1_train = f1_score(y_train,lr_y_train)\n",
    "lr_f1_test = f1_score(y_test,lr_y_test)\n",
    "print(\"\\nTraining scores\\n\")\n",
    "print(\"Precision score:\",lr_precision_train)\n",
    "print(\"Recall score:\",lr_recall_train)\n",
    "print(\"F1 score:\",lr_f1_train)\n",
    "print(\"\\nTesting scores\\n\")\n",
    "print(\"Precision score:\",lr_precision_test)\n",
    "print(\"Recall score:\",lr_recall_test)\n",
    "print(\"F1 score:\",lr_f1_test)"
   ]
  },
  {
   "cell_type": "markdown",
   "id": "ea69053b",
   "metadata": {},
   "source": [
    "### K Fold Cross Validation"
   ]
  },
  {
   "cell_type": "code",
   "execution_count": 119,
   "id": "1f96d9b6",
   "metadata": {},
   "outputs": [
    {
     "name": "stdout",
     "output_type": "stream",
     "text": [
      "Train Index:  [ 32074  32075  32076 ... 160364 160365 160366] \n",
      "\n",
      "Test Index:  [    0     1     2 ... 32071 32072 32073]\n"
     ]
    },
    {
     "name": "stderr",
     "output_type": "stream",
     "text": [
      "c:\\users\\hebbar\\appdata\\local\\programs\\python\\python39\\lib\\site-packages\\sklearn\\linear_model\\_logistic.py:814: ConvergenceWarning: lbfgs failed to converge (status=1):\n",
      "STOP: TOTAL NO. of ITERATIONS REACHED LIMIT.\n",
      "\n",
      "Increase the number of iterations (max_iter) or scale the data as shown in:\n",
      "    https://scikit-learn.org/stable/modules/preprocessing.html\n",
      "Please also refer to the documentation for alternative solver options:\n",
      "    https://scikit-learn.org/stable/modules/linear_model.html#logistic-regression\n",
      "  n_iter_i = _check_optimize_result(\n"
     ]
    },
    {
     "name": "stdout",
     "output_type": "stream",
     "text": [
      "Train Index:  [     0      1      2 ... 160364 160365 160366] \n",
      "\n",
      "Test Index:  [32074 32075 32076 ... 64145 64146 64147]\n"
     ]
    },
    {
     "name": "stderr",
     "output_type": "stream",
     "text": [
      "c:\\users\\hebbar\\appdata\\local\\programs\\python\\python39\\lib\\site-packages\\sklearn\\linear_model\\_logistic.py:814: ConvergenceWarning: lbfgs failed to converge (status=1):\n",
      "STOP: TOTAL NO. of ITERATIONS REACHED LIMIT.\n",
      "\n",
      "Increase the number of iterations (max_iter) or scale the data as shown in:\n",
      "    https://scikit-learn.org/stable/modules/preprocessing.html\n",
      "Please also refer to the documentation for alternative solver options:\n",
      "    https://scikit-learn.org/stable/modules/linear_model.html#logistic-regression\n",
      "  n_iter_i = _check_optimize_result(\n"
     ]
    },
    {
     "name": "stdout",
     "output_type": "stream",
     "text": [
      "Train Index:  [     0      1      2 ... 160364 160365 160366] \n",
      "\n",
      "Test Index:  [64148 64149 64150 ... 96218 96219 96220]\n"
     ]
    },
    {
     "name": "stderr",
     "output_type": "stream",
     "text": [
      "c:\\users\\hebbar\\appdata\\local\\programs\\python\\python39\\lib\\site-packages\\sklearn\\linear_model\\_logistic.py:814: ConvergenceWarning: lbfgs failed to converge (status=1):\n",
      "STOP: TOTAL NO. of ITERATIONS REACHED LIMIT.\n",
      "\n",
      "Increase the number of iterations (max_iter) or scale the data as shown in:\n",
      "    https://scikit-learn.org/stable/modules/preprocessing.html\n",
      "Please also refer to the documentation for alternative solver options:\n",
      "    https://scikit-learn.org/stable/modules/linear_model.html#logistic-regression\n",
      "  n_iter_i = _check_optimize_result(\n"
     ]
    },
    {
     "name": "stdout",
     "output_type": "stream",
     "text": [
      "Train Index:  [     0      1      2 ... 160364 160365 160366] \n",
      "\n",
      "Test Index:  [ 96221  96222  96223 ... 128291 128292 128293]\n"
     ]
    },
    {
     "name": "stderr",
     "output_type": "stream",
     "text": [
      "c:\\users\\hebbar\\appdata\\local\\programs\\python\\python39\\lib\\site-packages\\sklearn\\linear_model\\_logistic.py:814: ConvergenceWarning: lbfgs failed to converge (status=1):\n",
      "STOP: TOTAL NO. of ITERATIONS REACHED LIMIT.\n",
      "\n",
      "Increase the number of iterations (max_iter) or scale the data as shown in:\n",
      "    https://scikit-learn.org/stable/modules/preprocessing.html\n",
      "Please also refer to the documentation for alternative solver options:\n",
      "    https://scikit-learn.org/stable/modules/linear_model.html#logistic-regression\n",
      "  n_iter_i = _check_optimize_result(\n"
     ]
    },
    {
     "name": "stdout",
     "output_type": "stream",
     "text": [
      "Train Index:  [     0      1      2 ... 128291 128292 128293] \n",
      "\n",
      "Test Index:  [128294 128295 128296 ... 160364 160365 160366]\n"
     ]
    },
    {
     "name": "stderr",
     "output_type": "stream",
     "text": [
      "c:\\users\\hebbar\\appdata\\local\\programs\\python\\python39\\lib\\site-packages\\sklearn\\linear_model\\_logistic.py:814: ConvergenceWarning: lbfgs failed to converge (status=1):\n",
      "STOP: TOTAL NO. of ITERATIONS REACHED LIMIT.\n",
      "\n",
      "Increase the number of iterations (max_iter) or scale the data as shown in:\n",
      "    https://scikit-learn.org/stable/modules/preprocessing.html\n",
      "Please also refer to the documentation for alternative solver options:\n",
      "    https://scikit-learn.org/stable/modules/linear_model.html#logistic-regression\n",
      "  n_iter_i = _check_optimize_result(\n"
     ]
    }
   ],
   "source": [
    "lr_training_scores = []\n",
    "lr_testing_scores = []\n",
    "best_lr = LogisticRegression()\n",
    "cv = KFold(n_splits=5, shuffle=False)\n",
    "\n",
    "for train_index, test_index in cv.split(x):\n",
    "    print(\"Train Index: \", train_index, \"\\n\")\n",
    "    print(\"Test Index: \", test_index)\n",
    "\n",
    "    X_train, X_test, Y_train, Y_test = x[train_index], x[test_index], y[train_index], y[test_index]\n",
    "    best_lr.fit(X_train, Y_train)\n",
    "    lr_training_scores.append(best_lr.score(X_train, Y_train))\n",
    "    lr_testing_scores.append(best_lr.score(X_test, Y_test))\n"
   ]
  },
  {
   "cell_type": "code",
   "execution_count": 120,
   "id": "79e3cf8d",
   "metadata": {},
   "outputs": [
    {
     "data": {
      "text/plain": [
       "[0.8021715915911234,\n",
       " 0.7975415650113412,\n",
       " 0.8021809281805852,\n",
       " 0.8038567664894695,\n",
       " 0.8736729698972672]"
      ]
     },
     "execution_count": 120,
     "metadata": {},
     "output_type": "execute_result"
    }
   ],
   "source": [
    "lr_training_scores"
   ]
  },
  {
   "cell_type": "code",
   "execution_count": 121,
   "id": "2c212bf9",
   "metadata": {},
   "outputs": [
    {
     "data": {
      "text/plain": [
       "[0.8562075201097462,\n",
       " 0.8511255222298435,\n",
       " 0.8557977114707075,\n",
       " 0.8493748635924298,\n",
       " 0.6103264428023571]"
      ]
     },
     "execution_count": 121,
     "metadata": {},
     "output_type": "execute_result"
    }
   ],
   "source": [
    "lr_testing_scores"
   ]
  },
  {
   "cell_type": "code",
   "execution_count": 122,
   "id": "70ed99ca",
   "metadata": {},
   "outputs": [
    {
     "name": "stdout",
     "output_type": "stream",
     "text": [
      "Average Accuracy for training data is :  0.8158847642339573\n",
      "Max Accuracy for training data is :  0.8736729698972672\n",
      "Average Accuracy for testing data is :  0.8045664120410169\n",
      "Max Accuracy for testing data is :  0.8562075201097462\n"
     ]
    }
   ],
   "source": [
    "lr_avg_train = mean(lr_training_scores)\n",
    "lr_avg_test = mean(lr_testing_scores)\n",
    "lr_max_train = max(lr_training_scores)\n",
    "lr_max_test = max(lr_testing_scores)\n",
    "\n",
    "print(\"Average Accuracy for training data is : \",lr_avg_train)\n",
    "print(\"Max Accuracy for training data is : \",lr_max_train)\n",
    "print(\"Average Accuracy for testing data is : \",lr_avg_test)\n",
    "print(\"Max Accuracy for testing data is : \",lr_max_test)"
   ]
  },
  {
   "cell_type": "markdown",
   "id": "cbc82280",
   "metadata": {},
   "source": [
    "## Decision Tree Classifier"
   ]
  },
  {
   "cell_type": "code",
   "execution_count": 134,
   "id": "6deaa4a8",
   "metadata": {},
   "outputs": [
    {
     "data": {
      "text/plain": [
       "DecisionTreeClassifier()"
      ]
     },
     "execution_count": 134,
     "metadata": {},
     "output_type": "execute_result"
    }
   ],
   "source": [
    "from sklearn.tree import DecisionTreeClassifier\n",
    "dtc = DecisionTreeClassifier()\n",
    "dtc.fit(x_train,y_train)"
   ]
  },
  {
   "cell_type": "markdown",
   "id": "b909e1b9",
   "metadata": {},
   "source": [
    "### Training accuracy"
   ]
  },
  {
   "cell_type": "code",
   "execution_count": 135,
   "id": "03d84074",
   "metadata": {},
   "outputs": [
    {
     "data": {
      "text/plain": [
       "0.9994928289336936"
      ]
     },
     "execution_count": 135,
     "metadata": {},
     "output_type": "execute_result"
    }
   ],
   "source": [
    "dtc_train_score = dtc.score(x_train,y_train)\n",
    "dtc_train_score"
   ]
  },
  {
   "cell_type": "markdown",
   "id": "4c0781d4",
   "metadata": {},
   "source": [
    "### Testing accuracy"
   ]
  },
  {
   "cell_type": "code",
   "execution_count": 136,
   "id": "8d093b28",
   "metadata": {},
   "outputs": [
    {
     "data": {
      "text/plain": [
       "0.996233662576075"
      ]
     },
     "execution_count": 136,
     "metadata": {},
     "output_type": "execute_result"
    }
   ],
   "source": [
    "dtc_test_score = dtc.score(x_test,y_test)\n",
    "dtc_test_score"
   ]
  },
  {
   "cell_type": "markdown",
   "id": "eb7aa5aa",
   "metadata": {},
   "source": [
    "### Predicting y values"
   ]
  },
  {
   "cell_type": "code",
   "execution_count": 138,
   "id": "fe7a55bd",
   "metadata": {},
   "outputs": [],
   "source": [
    "dtc_y_train = dtc.predict(x_train)\n",
    "dtc_y_test = dtc.predict(x_test)"
   ]
  },
  {
   "cell_type": "markdown",
   "id": "b58a3bc1",
   "metadata": {},
   "source": [
    "## Confusion Matrix"
   ]
  },
  {
   "cell_type": "markdown",
   "id": "b6d00788",
   "metadata": {},
   "source": [
    "### for training"
   ]
  },
  {
   "cell_type": "code",
   "execution_count": 139,
   "id": "50277852",
   "metadata": {},
   "outputs": [
    {
     "name": "stdout",
     "output_type": "stream",
     "text": [
      "[[59411    61]\n",
      " [    0 60803]]\n"
     ]
    }
   ],
   "source": [
    "print(confusion_matrix(dtc_y_train,y_train))"
   ]
  },
  {
   "cell_type": "markdown",
   "id": "d39edf60",
   "metadata": {},
   "source": [
    "### for testing"
   ]
  },
  {
   "cell_type": "code",
   "execution_count": 140,
   "id": "acf73bb4",
   "metadata": {},
   "outputs": [
    {
     "name": "stdout",
     "output_type": "stream",
     "text": [
      "[[19719    75]\n",
      " [   76 20222]]\n"
     ]
    }
   ],
   "source": [
    "print(confusion_matrix(dtc_y_test,y_test))"
   ]
  },
  {
   "cell_type": "markdown",
   "id": "60d4eaef",
   "metadata": {},
   "source": [
    "### Classification Report"
   ]
  },
  {
   "cell_type": "markdown",
   "id": "5eb6553f",
   "metadata": {},
   "source": [
    "### For training"
   ]
  },
  {
   "cell_type": "code",
   "execution_count": 142,
   "id": "5a91e317",
   "metadata": {},
   "outputs": [
    {
     "name": "stdout",
     "output_type": "stream",
     "text": [
      "              precision    recall  f1-score   support\n",
      "\n",
      "      Normal       1.00      1.00      1.00     59472\n",
      "    Abnormal       1.00      1.00      1.00     60803\n",
      "\n",
      "    accuracy                           1.00    120275\n",
      "   macro avg       1.00      1.00      1.00    120275\n",
      "weighted avg       1.00      1.00      1.00    120275\n",
      "\n"
     ]
    }
   ],
   "source": [
    "print(classification_report(dtc_y_train,y_train, target_names=target_names))"
   ]
  },
  {
   "cell_type": "markdown",
   "id": "3b185209",
   "metadata": {},
   "source": [
    "### For testing"
   ]
  },
  {
   "cell_type": "code",
   "execution_count": 143,
   "id": "b408826d",
   "metadata": {},
   "outputs": [
    {
     "name": "stdout",
     "output_type": "stream",
     "text": [
      "              precision    recall  f1-score   support\n",
      "\n",
      "      Normal       1.00      1.00      1.00     19794\n",
      "    Abnormal       1.00      1.00      1.00     20298\n",
      "\n",
      "    accuracy                           1.00     40092\n",
      "   macro avg       1.00      1.00      1.00     40092\n",
      "weighted avg       1.00      1.00      1.00     40092\n",
      "\n"
     ]
    }
   ],
   "source": [
    "print(classification_report(dtc_y_test,y_test, target_names=target_names))"
   ]
  },
  {
   "cell_type": "markdown",
   "id": "f765c823",
   "metadata": {},
   "source": [
    "### Score"
   ]
  },
  {
   "cell_type": "code",
   "execution_count": 144,
   "id": "421002cd",
   "metadata": {},
   "outputs": [
    {
     "name": "stdout",
     "output_type": "stream",
     "text": [
      "\n",
      "Training scores\n",
      "\n",
      "Precision score: 1.0\n",
      "Recall score: 0.9989977655099895\n",
      "F1 score: 0.9994986315105986\n",
      "\n",
      "Testing scores\n",
      "\n",
      "Precision score: 0.9962557887476599\n",
      "Recall score: 0.996304872641277\n",
      "F1 score: 0.9962803300899126\n"
     ]
    }
   ],
   "source": [
    "dtc_precision_train = precision_score(y_train,dtc_y_train)\n",
    "dtc_precision_test = precision_score(y_test,dtc_y_test)\n",
    "dtc_recall_train = recall_score(y_train,dtc_y_train)\n",
    "dtc_recall_test = recall_score(y_test,dtc_y_test)\n",
    "dtc_f1_train = f1_score(y_train,dtc_y_train)\n",
    "dtc_f1_test = f1_score(y_test,dtc_y_test)\n",
    "print(\"\\nTraining scores\\n\")\n",
    "print(\"Precision score:\",dtc_precision_train)\n",
    "print(\"Recall score:\",dtc_recall_train)\n",
    "print(\"F1 score:\",dtc_f1_train)\n",
    "print(\"\\nTesting scores\\n\")\n",
    "print(\"Precision score:\",dtc_precision_test)\n",
    "print(\"Recall score:\",dtc_recall_test)\n",
    "print(\"F1 score:\",dtc_f1_test)"
   ]
  },
  {
   "cell_type": "markdown",
   "id": "c277104d",
   "metadata": {},
   "source": [
    "### K Fold Cross Validation"
   ]
  },
  {
   "cell_type": "code",
   "execution_count": 145,
   "id": "e1704eec",
   "metadata": {},
   "outputs": [
    {
     "name": "stdout",
     "output_type": "stream",
     "text": [
      "Train Index:  [ 32074  32075  32076 ... 160364 160365 160366] \n",
      "\n",
      "Test Index:  [    0     1     2 ... 32071 32072 32073]\n",
      "Train Index:  [     0      1      2 ... 160364 160365 160366] \n",
      "\n",
      "Test Index:  [32074 32075 32076 ... 64145 64146 64147]\n",
      "Train Index:  [     0      1      2 ... 160364 160365 160366] \n",
      "\n",
      "Test Index:  [64148 64149 64150 ... 96218 96219 96220]\n",
      "Train Index:  [     0      1      2 ... 160364 160365 160366] \n",
      "\n",
      "Test Index:  [ 96221  96222  96223 ... 128291 128292 128293]\n",
      "Train Index:  [     0      1      2 ... 128291 128292 128293] \n",
      "\n",
      "Test Index:  [128294 128295 128296 ... 160364 160365 160366]\n"
     ]
    }
   ],
   "source": [
    "dtc_training_scores = []\n",
    "dtc_testing_scores = []\n",
    "best_dtc = DecisionTreeClassifier()\n",
    "cv = KFold(n_splits=5, shuffle=False)\n",
    "\n",
    "for train_index, test_index in cv.split(x):\n",
    "    print(\"Train Index: \", train_index, \"\\n\")\n",
    "    print(\"Test Index: \", test_index)\n",
    "\n",
    "    X_train, X_test, Y_train, Y_test = x[train_index], x[test_index], y[train_index], y[test_index]\n",
    "    best_dtc.fit(X_train, Y_train)\n",
    "    dtc_training_scores.append(best_dtc.score(X_train, Y_train))\n",
    "    dtc_testing_scores.append(best_dtc.score(X_test, Y_test))\n"
   ]
  },
  {
   "cell_type": "code",
   "execution_count": 146,
   "id": "3ca9ec79",
   "metadata": {},
   "outputs": [
    {
     "data": {
      "text/plain": [
       "[0.9991425876704108,\n",
       " 0.999134793012869,\n",
       " 0.9991425943535941,\n",
       " 0.9992283349182347,\n",
       " 0.9999454378225014]"
      ]
     },
     "execution_count": 146,
     "metadata": {},
     "output_type": "execute_result"
    }
   ],
   "source": [
    "dtc_training_scores"
   ]
  },
  {
   "cell_type": "code",
   "execution_count": 147,
   "id": "11d8662b",
   "metadata": {},
   "outputs": [
    {
     "data": {
      "text/plain": [
       "[0.9975057679117042,\n",
       " 0.9975993016150153,\n",
       " 0.9976615845103358,\n",
       " 0.9979110154959,\n",
       " 0.9530446169675428]"
      ]
     },
     "execution_count": 147,
     "metadata": {},
     "output_type": "execute_result"
    }
   ],
   "source": [
    "dtc_testing_scores"
   ]
  },
  {
   "cell_type": "code",
   "execution_count": 148,
   "id": "9fcaac70",
   "metadata": {},
   "outputs": [
    {
     "name": "stdout",
     "output_type": "stream",
     "text": [
      "Average Accuracy for training data is :  0.999318749555522\n",
      "Max Accuracy for training data is :  0.9999454378225014\n",
      "Average Accuracy for testing data is :  0.9887444573000996\n",
      "Max Accuracy for testing data is :  0.9979110154959\n"
     ]
    }
   ],
   "source": [
    "dtc_avg_train = mean(dtc_training_scores)\n",
    "dtc_avg_test = mean(dtc_testing_scores)\n",
    "dtc_max_train = max(dtc_training_scores)\n",
    "dtc_max_test = max(dtc_testing_scores)\n",
    "\n",
    "print(\"Average Accuracy for training data is : \",dtc_avg_train)\n",
    "print(\"Max Accuracy for training data is : \",dtc_max_train)\n",
    "print(\"Average Accuracy for testing data is : \",dtc_avg_test)\n",
    "print(\"Max Accuracy for testing data is : \",dtc_max_test)"
   ]
  },
  {
   "cell_type": "code",
   "execution_count": null,
   "id": "5f4628d9",
   "metadata": {},
   "outputs": [],
   "source": []
  },
  {
   "cell_type": "code",
   "execution_count": null,
   "id": "dd558313",
   "metadata": {},
   "outputs": [],
   "source": []
  },
  {
   "cell_type": "code",
   "execution_count": null,
   "id": "ea1893c9",
   "metadata": {},
   "outputs": [],
   "source": []
  }
 ],
 "metadata": {
  "kernelspec": {
   "display_name": "Python 3 (ipykernel)",
   "language": "python",
   "name": "python3"
  },
  "language_info": {
   "codemirror_mode": {
    "name": "ipython",
    "version": 3
   },
   "file_extension": ".py",
   "mimetype": "text/x-python",
   "name": "python",
   "nbconvert_exporter": "python",
   "pygments_lexer": "ipython3",
   "version": "3.9.6"
  }
 },
 "nbformat": 4,
 "nbformat_minor": 5
}
