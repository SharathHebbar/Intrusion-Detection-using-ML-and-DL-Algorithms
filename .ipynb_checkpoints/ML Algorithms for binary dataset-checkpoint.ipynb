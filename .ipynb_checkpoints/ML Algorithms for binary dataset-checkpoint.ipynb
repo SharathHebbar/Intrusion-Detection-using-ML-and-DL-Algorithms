{
 "cells": [
  {
   "cell_type": "markdown",
   "id": "7f90a581",
   "metadata": {},
   "source": [
    "## Importing Libraries "
   ]
  },
  {
   "cell_type": "code",
   "execution_count": 52,
   "id": "07d7c168",
   "metadata": {},
   "outputs": [],
   "source": [
    "import pandas as pd\n",
    "import numpy as np\n",
    "from statistics import mean\n",
    "from sklearn.metrics import accuracy_score,confusion_matrix,classification_report"
   ]
  },
  {
   "cell_type": "markdown",
   "id": "788e4645",
   "metadata": {},
   "source": [
    "### Loading Datasets"
   ]
  },
  {
   "cell_type": "code",
   "execution_count": 3,
   "id": "471a7296",
   "metadata": {},
   "outputs": [
    {
     "data": {
      "text/html": [
       "<div>\n",
       "<style scoped>\n",
       "    .dataframe tbody tr th:only-of-type {\n",
       "        vertical-align: middle;\n",
       "    }\n",
       "\n",
       "    .dataframe tbody tr th {\n",
       "        vertical-align: top;\n",
       "    }\n",
       "\n",
       "    .dataframe thead th {\n",
       "        text-align: right;\n",
       "    }\n",
       "</style>\n",
       "<table border=\"1\" class=\"dataframe\">\n",
       "  <thead>\n",
       "    <tr style=\"text-align: right;\">\n",
       "      <th></th>\n",
       "      <th>duration</th>\n",
       "      <th>src_bytes</th>\n",
       "      <th>dst_bytes</th>\n",
       "      <th>land</th>\n",
       "      <th>wrong_fragment</th>\n",
       "      <th>urgent</th>\n",
       "      <th>hot</th>\n",
       "      <th>num_failed_logins</th>\n",
       "      <th>logged_in</th>\n",
       "      <th>num_compromised</th>\n",
       "      <th>...</th>\n",
       "      <th>dst_host_same_src_port_rate</th>\n",
       "      <th>dst_host_srv_diff_host_rate</th>\n",
       "      <th>dst_host_serror_rate</th>\n",
       "      <th>dst_host_srv_serror_rate</th>\n",
       "      <th>dst_host_rerror_rate</th>\n",
       "      <th>dst_host_srv_rerror_rate</th>\n",
       "      <th>protocol_type</th>\n",
       "      <th>service</th>\n",
       "      <th>flag</th>\n",
       "      <th>label</th>\n",
       "    </tr>\n",
       "  </thead>\n",
       "  <tbody>\n",
       "    <tr>\n",
       "      <th>0</th>\n",
       "      <td>0.0</td>\n",
       "      <td>491.0</td>\n",
       "      <td>0.0</td>\n",
       "      <td>0.0</td>\n",
       "      <td>0.0</td>\n",
       "      <td>0.0</td>\n",
       "      <td>0.0</td>\n",
       "      <td>0.0</td>\n",
       "      <td>0.0</td>\n",
       "      <td>0.0</td>\n",
       "      <td>...</td>\n",
       "      <td>0.17</td>\n",
       "      <td>0.00</td>\n",
       "      <td>0.00</td>\n",
       "      <td>0.00</td>\n",
       "      <td>0.05</td>\n",
       "      <td>0.00</td>\n",
       "      <td>1.0</td>\n",
       "      <td>20.0</td>\n",
       "      <td>9.0</td>\n",
       "      <td>0.0</td>\n",
       "    </tr>\n",
       "    <tr>\n",
       "      <th>1</th>\n",
       "      <td>0.0</td>\n",
       "      <td>146.0</td>\n",
       "      <td>0.0</td>\n",
       "      <td>0.0</td>\n",
       "      <td>0.0</td>\n",
       "      <td>0.0</td>\n",
       "      <td>0.0</td>\n",
       "      <td>0.0</td>\n",
       "      <td>0.0</td>\n",
       "      <td>0.0</td>\n",
       "      <td>...</td>\n",
       "      <td>0.88</td>\n",
       "      <td>0.00</td>\n",
       "      <td>0.00</td>\n",
       "      <td>0.00</td>\n",
       "      <td>0.00</td>\n",
       "      <td>0.00</td>\n",
       "      <td>2.0</td>\n",
       "      <td>44.0</td>\n",
       "      <td>9.0</td>\n",
       "      <td>0.0</td>\n",
       "    </tr>\n",
       "    <tr>\n",
       "      <th>2</th>\n",
       "      <td>0.0</td>\n",
       "      <td>0.0</td>\n",
       "      <td>0.0</td>\n",
       "      <td>0.0</td>\n",
       "      <td>0.0</td>\n",
       "      <td>0.0</td>\n",
       "      <td>0.0</td>\n",
       "      <td>0.0</td>\n",
       "      <td>0.0</td>\n",
       "      <td>0.0</td>\n",
       "      <td>...</td>\n",
       "      <td>0.00</td>\n",
       "      <td>0.00</td>\n",
       "      <td>1.00</td>\n",
       "      <td>1.00</td>\n",
       "      <td>0.00</td>\n",
       "      <td>0.00</td>\n",
       "      <td>1.0</td>\n",
       "      <td>49.0</td>\n",
       "      <td>5.0</td>\n",
       "      <td>1.0</td>\n",
       "    </tr>\n",
       "    <tr>\n",
       "      <th>3</th>\n",
       "      <td>0.0</td>\n",
       "      <td>232.0</td>\n",
       "      <td>8153.0</td>\n",
       "      <td>0.0</td>\n",
       "      <td>0.0</td>\n",
       "      <td>0.0</td>\n",
       "      <td>0.0</td>\n",
       "      <td>0.0</td>\n",
       "      <td>1.0</td>\n",
       "      <td>0.0</td>\n",
       "      <td>...</td>\n",
       "      <td>0.03</td>\n",
       "      <td>0.04</td>\n",
       "      <td>0.03</td>\n",
       "      <td>0.01</td>\n",
       "      <td>0.00</td>\n",
       "      <td>0.01</td>\n",
       "      <td>1.0</td>\n",
       "      <td>24.0</td>\n",
       "      <td>9.0</td>\n",
       "      <td>0.0</td>\n",
       "    </tr>\n",
       "    <tr>\n",
       "      <th>4</th>\n",
       "      <td>0.0</td>\n",
       "      <td>199.0</td>\n",
       "      <td>420.0</td>\n",
       "      <td>0.0</td>\n",
       "      <td>0.0</td>\n",
       "      <td>0.0</td>\n",
       "      <td>0.0</td>\n",
       "      <td>0.0</td>\n",
       "      <td>1.0</td>\n",
       "      <td>0.0</td>\n",
       "      <td>...</td>\n",
       "      <td>0.00</td>\n",
       "      <td>0.00</td>\n",
       "      <td>0.00</td>\n",
       "      <td>0.00</td>\n",
       "      <td>0.00</td>\n",
       "      <td>0.00</td>\n",
       "      <td>1.0</td>\n",
       "      <td>24.0</td>\n",
       "      <td>9.0</td>\n",
       "      <td>0.0</td>\n",
       "    </tr>\n",
       "  </tbody>\n",
       "</table>\n",
       "<p>5 rows × 42 columns</p>\n",
       "</div>"
      ],
      "text/plain": [
       "   duration  src_bytes  dst_bytes  land  wrong_fragment  urgent  hot  \\\n",
       "0       0.0      491.0        0.0   0.0             0.0     0.0  0.0   \n",
       "1       0.0      146.0        0.0   0.0             0.0     0.0  0.0   \n",
       "2       0.0        0.0        0.0   0.0             0.0     0.0  0.0   \n",
       "3       0.0      232.0     8153.0   0.0             0.0     0.0  0.0   \n",
       "4       0.0      199.0      420.0   0.0             0.0     0.0  0.0   \n",
       "\n",
       "   num_failed_logins  logged_in  num_compromised  ...  \\\n",
       "0                0.0        0.0              0.0  ...   \n",
       "1                0.0        0.0              0.0  ...   \n",
       "2                0.0        0.0              0.0  ...   \n",
       "3                0.0        1.0              0.0  ...   \n",
       "4                0.0        1.0              0.0  ...   \n",
       "\n",
       "   dst_host_same_src_port_rate  dst_host_srv_diff_host_rate  \\\n",
       "0                         0.17                         0.00   \n",
       "1                         0.88                         0.00   \n",
       "2                         0.00                         0.00   \n",
       "3                         0.03                         0.04   \n",
       "4                         0.00                         0.00   \n",
       "\n",
       "   dst_host_serror_rate  dst_host_srv_serror_rate  dst_host_rerror_rate  \\\n",
       "0                  0.00                      0.00                  0.05   \n",
       "1                  0.00                      0.00                  0.00   \n",
       "2                  1.00                      1.00                  0.00   \n",
       "3                  0.03                      0.01                  0.00   \n",
       "4                  0.00                      0.00                  0.00   \n",
       "\n",
       "   dst_host_srv_rerror_rate  protocol_type  service  flag  label  \n",
       "0                      0.00            1.0     20.0   9.0    0.0  \n",
       "1                      0.00            2.0     44.0   9.0    0.0  \n",
       "2                      0.00            1.0     49.0   5.0    1.0  \n",
       "3                      0.01            1.0     24.0   9.0    0.0  \n",
       "4                      0.00            1.0     24.0   9.0    0.0  \n",
       "\n",
       "[5 rows x 42 columns]"
      ]
     },
     "execution_count": 3,
     "metadata": {},
     "output_type": "execute_result"
    }
   ],
   "source": [
    "data = pd.read_csv('ids_binary.csv')\n",
    "data.head()"
   ]
  },
  {
   "cell_type": "code",
   "execution_count": 47,
   "id": "6908d51f",
   "metadata": {},
   "outputs": [
    {
     "data": {
      "text/plain": [
       "((160367, 41), (160367,))"
      ]
     },
     "execution_count": 47,
     "metadata": {},
     "output_type": "execute_result"
    }
   ],
   "source": [
    "x = data.iloc[:,0:-1].values\n",
    "y = data.iloc[:,-1].values\n",
    "x.shape,y.shape"
   ]
  },
  {
   "cell_type": "markdown",
   "id": "34a0a1d7",
   "metadata": {},
   "source": [
    "### splitting the dataset into train test split"
   ]
  },
  {
   "cell_type": "code",
   "execution_count": 9,
   "id": "b8cb98c3",
   "metadata": {},
   "outputs": [],
   "source": [
    "from sklearn.model_selection import train_test_split"
   ]
  },
  {
   "cell_type": "code",
   "execution_count": 18,
   "id": "19bc5ffb",
   "metadata": {},
   "outputs": [
    {
     "data": {
      "text/plain": [
       "((120275, 41), (40092, 41), (120275,), (40092,))"
      ]
     },
     "execution_count": 18,
     "metadata": {},
     "output_type": "execute_result"
    }
   ],
   "source": [
    "x_train,x_test,y_train,y_test = train_test_split(x,y)\n",
    "x_train.shape,x_test.shape,y_train.shape,y_test.shape"
   ]
  },
  {
   "cell_type": "code",
   "execution_count": 35,
   "id": "d07cca57",
   "metadata": {},
   "outputs": [],
   "source": [
    "target_names = ['Normal','Abnormal']"
   ]
  },
  {
   "cell_type": "markdown",
   "id": "387961f1",
   "metadata": {},
   "source": [
    "# Applying Machine Learning Algorithms"
   ]
  },
  {
   "cell_type": "markdown",
   "id": "ed86103a",
   "metadata": {},
   "source": [
    "## ADABoost"
   ]
  },
  {
   "cell_type": "code",
   "execution_count": 14,
   "id": "3bae1a85",
   "metadata": {},
   "outputs": [],
   "source": [
    "from sklearn.ensemble import AdaBoostClassifier\n",
    "abc = AdaBoostClassifier()"
   ]
  },
  {
   "cell_type": "code",
   "execution_count": 19,
   "id": "e6a8e81e",
   "metadata": {},
   "outputs": [
    {
     "data": {
      "text/plain": [
       "AdaBoostClassifier()"
      ]
     },
     "execution_count": 19,
     "metadata": {},
     "output_type": "execute_result"
    }
   ],
   "source": [
    "abc.fit(x_train,y_train)"
   ]
  },
  {
   "cell_type": "markdown",
   "id": "561eb149",
   "metadata": {},
   "source": [
    "### Training accuracy"
   ]
  },
  {
   "cell_type": "code",
   "execution_count": 20,
   "id": "bfeaded4",
   "metadata": {},
   "outputs": [
    {
     "name": "stderr",
     "output_type": "stream",
     "text": [
      "c:\\users\\hebbar\\appdata\\local\\programs\\python\\python39\\lib\\site-packages\\sklearn\\base.py:441: UserWarning: X does not have valid feature names, but AdaBoostClassifier was fitted with feature names\n",
      "  warnings.warn(\n"
     ]
    },
    {
     "data": {
      "text/plain": [
       "0.9649054250675535"
      ]
     },
     "execution_count": 20,
     "metadata": {},
     "output_type": "execute_result"
    }
   ],
   "source": [
    "abc.score(x_train,y_train)"
   ]
  },
  {
   "cell_type": "markdown",
   "id": "b75bbed7",
   "metadata": {},
   "source": [
    "### Testing accuracy"
   ]
  },
  {
   "cell_type": "code",
   "execution_count": 21,
   "id": "d293a64b",
   "metadata": {},
   "outputs": [
    {
     "name": "stderr",
     "output_type": "stream",
     "text": [
      "c:\\users\\hebbar\\appdata\\local\\programs\\python\\python39\\lib\\site-packages\\sklearn\\base.py:441: UserWarning: X does not have valid feature names, but AdaBoostClassifier was fitted with feature names\n",
      "  warnings.warn(\n"
     ]
    },
    {
     "data": {
      "text/plain": [
       "0.9638331836775417"
      ]
     },
     "execution_count": 21,
     "metadata": {},
     "output_type": "execute_result"
    }
   ],
   "source": [
    "abc.score(x_test,y_test)"
   ]
  },
  {
   "cell_type": "markdown",
   "id": "eee9f963",
   "metadata": {},
   "source": [
    "### Predicted y values for train and test datas"
   ]
  },
  {
   "cell_type": "code",
   "execution_count": 27,
   "id": "a7b3a379",
   "metadata": {},
   "outputs": [
    {
     "name": "stderr",
     "output_type": "stream",
     "text": [
      "c:\\users\\hebbar\\appdata\\local\\programs\\python\\python39\\lib\\site-packages\\sklearn\\base.py:441: UserWarning: X does not have valid feature names, but AdaBoostClassifier was fitted with feature names\n",
      "  warnings.warn(\n"
     ]
    }
   ],
   "source": [
    "abc_y_train = abc.predict(x_train)"
   ]
  },
  {
   "cell_type": "code",
   "execution_count": 28,
   "id": "a20b8d1e",
   "metadata": {},
   "outputs": [
    {
     "name": "stderr",
     "output_type": "stream",
     "text": [
      "c:\\users\\hebbar\\appdata\\local\\programs\\python\\python39\\lib\\site-packages\\sklearn\\base.py:441: UserWarning: X does not have valid feature names, but AdaBoostClassifier was fitted with feature names\n",
      "  warnings.warn(\n"
     ]
    }
   ],
   "source": [
    "abc_y_test = abc.predict(x_test)\n"
   ]
  },
  {
   "cell_type": "markdown",
   "id": "b7cc2480",
   "metadata": {},
   "source": [
    "## Confusion matrix"
   ]
  },
  {
   "cell_type": "markdown",
   "id": "3c4c46c8",
   "metadata": {},
   "source": [
    "### For training"
   ]
  },
  {
   "cell_type": "code",
   "execution_count": 29,
   "id": "08d3707b",
   "metadata": {},
   "outputs": [
    {
     "name": "stdout",
     "output_type": "stream",
     "text": [
      "[[57350  2051]\n",
      " [ 2170 58704]]\n"
     ]
    }
   ],
   "source": [
    "print(confusion_matrix(y_train,abc_y_train))"
   ]
  },
  {
   "cell_type": "markdown",
   "id": "09801a5a",
   "metadata": {},
   "source": [
    "### For testing"
   ]
  },
  {
   "cell_type": "code",
   "execution_count": 30,
   "id": "a62779ac",
   "metadata": {},
   "outputs": [
    {
     "name": "stdout",
     "output_type": "stream",
     "text": [
      "[[19101   704]\n",
      " [  746 19541]]\n"
     ]
    }
   ],
   "source": [
    "print(confusion_matrix(y_test,abc_y_test))"
   ]
  },
  {
   "cell_type": "markdown",
   "id": "4fccabe7",
   "metadata": {},
   "source": [
    "## Classification report"
   ]
  },
  {
   "cell_type": "markdown",
   "id": "2d7ecc6b",
   "metadata": {},
   "source": [
    "### For training"
   ]
  },
  {
   "cell_type": "code",
   "execution_count": 36,
   "id": "72a05b37",
   "metadata": {},
   "outputs": [
    {
     "name": "stdout",
     "output_type": "stream",
     "text": [
      "              precision    recall  f1-score   support\n",
      "\n",
      "      Normal       0.96      0.97      0.96     59401\n",
      "    Abnormal       0.97      0.96      0.97     60874\n",
      "\n",
      "    accuracy                           0.96    120275\n",
      "   macro avg       0.96      0.96      0.96    120275\n",
      "weighted avg       0.96      0.96      0.96    120275\n",
      "\n"
     ]
    }
   ],
   "source": [
    "print(classification_report(y_train,abc_y_train, target_names = target_names))"
   ]
  },
  {
   "cell_type": "markdown",
   "id": "067fcc4b",
   "metadata": {},
   "source": [
    "### For testing"
   ]
  },
  {
   "cell_type": "code",
   "execution_count": 37,
   "id": "d5de91f1",
   "metadata": {},
   "outputs": [
    {
     "name": "stdout",
     "output_type": "stream",
     "text": [
      "              precision    recall  f1-score   support\n",
      "\n",
      "      Normal       0.96      0.96      0.96     19805\n",
      "    Abnormal       0.97      0.96      0.96     20287\n",
      "\n",
      "    accuracy                           0.96     40092\n",
      "   macro avg       0.96      0.96      0.96     40092\n",
      "weighted avg       0.96      0.96      0.96     40092\n",
      "\n"
     ]
    }
   ],
   "source": [
    "print(classification_report(y_test,abc_y_test, target_names = target_names))"
   ]
  },
  {
   "cell_type": "markdown",
   "id": "17382932",
   "metadata": {},
   "source": [
    "## K fold Cross Validation"
   ]
  },
  {
   "cell_type": "code",
   "execution_count": 38,
   "id": "035e7d3c",
   "metadata": {},
   "outputs": [],
   "source": [
    "from sklearn.model_selection import KFold"
   ]
  },
  {
   "cell_type": "code",
   "execution_count": 48,
   "id": "c5148c63",
   "metadata": {},
   "outputs": [
    {
     "name": "stdout",
     "output_type": "stream",
     "text": [
      "Train Index:  [ 32074  32075  32076 ... 160364 160365 160366] \n",
      "\n",
      "Test Index:  [    0     1     2 ... 32071 32072 32073]\n",
      "Train Index:  [     0      1      2 ... 160364 160365 160366] \n",
      "\n",
      "Test Index:  [32074 32075 32076 ... 64145 64146 64147]\n",
      "Train Index:  [     0      1      2 ... 160364 160365 160366] \n",
      "\n",
      "Test Index:  [64148 64149 64150 ... 96218 96219 96220]\n",
      "Train Index:  [     0      1      2 ... 160364 160365 160366] \n",
      "\n",
      "Test Index:  [ 96221  96222  96223 ... 128291 128292 128293]\n",
      "Train Index:  [     0      1      2 ... 128291 128292 128293] \n",
      "\n",
      "Test Index:  [128294 128295 128296 ... 160364 160365 160366]\n"
     ]
    }
   ],
   "source": [
    "\n",
    "abc_training_scores = []\n",
    "abc_testing_scores = []\n",
    "best_abc = AdaBoostClassifier()\n",
    "cv = KFold(n_splits=5, shuffle=False)\n",
    "\n",
    "for train_index, test_index in cv.split(x):\n",
    "    print(\"Train Index: \", train_index, \"\\n\")\n",
    "    print(\"Test Index: \", test_index)\n",
    "\n",
    "    X_train, X_test, Y_train, Y_test = x[train_index], x[test_index], y[train_index], y[test_index]\n",
    "    best_abc.fit(X_train, Y_train)\n",
    "    abc_training_scores.append(best_abc.score(X_train, Y_train))\n",
    "    abc_testing_scores.append(best_abc.score(X_test, Y_test))\n"
   ]
  },
  {
   "cell_type": "code",
   "execution_count": 49,
   "id": "df421dab",
   "metadata": {},
   "outputs": [
    {
     "data": {
      "text/plain": [
       "[0.9608396405103942,\n",
       " 0.9579088492747071,\n",
       " 0.9589302695371569,\n",
       " 0.9621494380095718,\n",
       " 0.9822049355386846]"
      ]
     },
     "execution_count": 49,
     "metadata": {},
     "output_type": "execute_result"
    }
   ],
   "source": [
    "abc_training_scores"
   ]
  },
  {
   "cell_type": "code",
   "execution_count": 50,
   "id": "ad72b5f5",
   "metadata": {},
   "outputs": [
    {
     "data": {
      "text/plain": [
       "[0.9742782315894494,\n",
       " 0.9701627486437613,\n",
       " 0.9720949084900071,\n",
       " 0.9715960465188788,\n",
       " 0.7879213045240545]"
      ]
     },
     "execution_count": 50,
     "metadata": {},
     "output_type": "execute_result"
    }
   ],
   "source": [
    "abc_testing_scores"
   ]
  },
  {
   "cell_type": "code",
   "execution_count": 53,
   "id": "e448fb71",
   "metadata": {},
   "outputs": [
    {
     "name": "stdout",
     "output_type": "stream",
     "text": [
      "Average Accuracy for training data is :  0.9644066265741029\n",
      "Max Accuracy for training data is :  0.9822049355386846\n",
      "Average Accuracy for testing data is :  0.9352106479532302\n",
      "Max Accuracy for testing data is :  0.9742782315894494\n"
     ]
    }
   ],
   "source": [
    "abc_avg_train = mean(abc_training_scores)\n",
    "abc_avg_test = mean(abc_testing_scores)\n",
    "abc_max_train = max(abc_training_scores)\n",
    "abc_max_test = max(abc_testing_scores)\n",
    "print(\"Average Accuracy for training data is : \",abc_avg_train)\n",
    "print(\"Max Accuracy for training data is : \",abc_max_train)\n",
    "print(\"Average Accuracy for testing data is : \",abc_avg_test)\n",
    "print(\"Max Accuracy for testing data is : \",abc_max_test)"
   ]
  },
  {
   "cell_type": "markdown",
   "id": "462477ae",
   "metadata": {},
   "source": [
    "## XGBoost"
   ]
  },
  {
   "cell_type": "code",
   "execution_count": 54,
   "id": "55f73ed3",
   "metadata": {},
   "outputs": [],
   "source": [
    "from xgboost import XGBClassifier\n",
    "xgbc = XGBClassifier()"
   ]
  },
  {
   "cell_type": "code",
   "execution_count": 55,
   "id": "036e6c0c",
   "metadata": {},
   "outputs": [
    {
     "name": "stderr",
     "output_type": "stream",
     "text": [
      "c:\\users\\hebbar\\appdata\\local\\programs\\python\\python39\\lib\\site-packages\\xgboost\\sklearn.py:1224: UserWarning: The use of label encoder in XGBClassifier is deprecated and will be removed in a future release. To remove this warning, do the following: 1) Pass option use_label_encoder=False when constructing XGBClassifier object; and 2) Encode your labels (y) as integers starting with 0, i.e. 0, 1, 2, ..., [num_class - 1].\n",
      "  warnings.warn(label_encoder_deprecation_msg, UserWarning)\n"
     ]
    },
    {
     "name": "stdout",
     "output_type": "stream",
     "text": [
      "[16:24:06] WARNING: C:/Users/Administrator/workspace/xgboost-win64_release_1.5.1/src/learner.cc:1115: Starting in XGBoost 1.3.0, the default evaluation metric used with the objective 'binary:logistic' was changed from 'error' to 'logloss'. Explicitly set eval_metric if you'd like to restore the old behavior.\n"
     ]
    },
    {
     "data": {
      "text/plain": [
       "XGBClassifier(base_score=0.5, booster='gbtree', colsample_bylevel=1,\n",
       "              colsample_bynode=1, colsample_bytree=1, enable_categorical=False,\n",
       "              gamma=0, gpu_id=-1, importance_type=None,\n",
       "              interaction_constraints='', learning_rate=0.300000012,\n",
       "              max_delta_step=0, max_depth=6, min_child_weight=1, missing=nan,\n",
       "              monotone_constraints='()', n_estimators=100, n_jobs=4,\n",
       "              num_parallel_tree=1, predictor='auto', random_state=0,\n",
       "              reg_alpha=0, reg_lambda=1, scale_pos_weight=1, subsample=1,\n",
       "              tree_method='exact', validate_parameters=1, verbosity=None)"
      ]
     },
     "execution_count": 55,
     "metadata": {},
     "output_type": "execute_result"
    }
   ],
   "source": [
    "xgbc.fit(x_train,y_train)"
   ]
  },
  {
   "cell_type": "markdown",
   "id": "0638851b",
   "metadata": {},
   "source": [
    "### Training accuracy"
   ]
  },
  {
   "cell_type": "code",
   "execution_count": 56,
   "id": "78208f1a",
   "metadata": {},
   "outputs": [
    {
     "data": {
      "text/plain": [
       "0.9989856578673872"
      ]
     },
     "execution_count": 56,
     "metadata": {},
     "output_type": "execute_result"
    }
   ],
   "source": [
    "xgbc.score(x_train,y_train)"
   ]
  },
  {
   "cell_type": "markdown",
   "id": "23303e79",
   "metadata": {},
   "source": [
    "### Testing accuracy"
   ]
  },
  {
   "cell_type": "code",
   "execution_count": 57,
   "id": "530b73d6",
   "metadata": {},
   "outputs": [
    {
     "data": {
      "text/plain": [
       "0.9970817120622568"
      ]
     },
     "execution_count": 57,
     "metadata": {},
     "output_type": "execute_result"
    }
   ],
   "source": [
    "xgbc.score(x_test,y_test)"
   ]
  },
  {
   "cell_type": "markdown",
   "id": "5b620a1c",
   "metadata": {},
   "source": [
    "### Predicted Y values"
   ]
  },
  {
   "cell_type": "code",
   "execution_count": 59,
   "id": "a2a71598",
   "metadata": {},
   "outputs": [],
   "source": [
    "xgbc_y_train = xgbc.predict(x_train)\n",
    "xgbc_y_test = xgbc.predict(x_test)"
   ]
  },
  {
   "cell_type": "markdown",
   "id": "3d39a2d2",
   "metadata": {},
   "source": [
    "## Confusion matrix"
   ]
  },
  {
   "cell_type": "markdown",
   "id": "241e9a64",
   "metadata": {},
   "source": [
    "### For training"
   ]
  },
  {
   "cell_type": "code",
   "execution_count": 63,
   "id": "3ff62c14",
   "metadata": {},
   "outputs": [
    {
     "name": "stdout",
     "output_type": "stream",
     "text": [
      "[[59349    52]\n",
      " [   70 60804]]\n"
     ]
    }
   ],
   "source": [
    "print(confusion_matrix(y_train,xgbc_y_train))"
   ]
  },
  {
   "cell_type": "markdown",
   "id": "3de464c2",
   "metadata": {},
   "source": [
    "### For testing"
   ]
  },
  {
   "cell_type": "code",
   "execution_count": 65,
   "id": "3b9e69e0",
   "metadata": {},
   "outputs": [
    {
     "name": "stdout",
     "output_type": "stream",
     "text": [
      "[[19748    57]\n",
      " [   60 20227]]\n"
     ]
    }
   ],
   "source": [
    "print(confusion_matrix(y_test,xgbc_y_test))"
   ]
  },
  {
   "cell_type": "markdown",
   "id": "6e88b9d7",
   "metadata": {},
   "source": [
    "## Classification Report"
   ]
  },
  {
   "cell_type": "markdown",
   "id": "eaf76750",
   "metadata": {},
   "source": [
    "### For training"
   ]
  },
  {
   "cell_type": "code",
   "execution_count": 60,
   "id": "bffd48ab",
   "metadata": {},
   "outputs": [
    {
     "name": "stdout",
     "output_type": "stream",
     "text": [
      "              precision    recall  f1-score   support\n",
      "\n",
      "      Normal       1.00      1.00      1.00     59401\n",
      "    Abnormal       1.00      1.00      1.00     60874\n",
      "\n",
      "    accuracy                           1.00    120275\n",
      "   macro avg       1.00      1.00      1.00    120275\n",
      "weighted avg       1.00      1.00      1.00    120275\n",
      "\n"
     ]
    }
   ],
   "source": [
    "print(classification_report(y_train,xgbc_y_train, target_names = target_names))"
   ]
  },
  {
   "cell_type": "markdown",
   "id": "b2d0b7ff",
   "metadata": {},
   "source": [
    "### For testing"
   ]
  },
  {
   "cell_type": "code",
   "execution_count": 62,
   "id": "5a79127f",
   "metadata": {},
   "outputs": [
    {
     "name": "stdout",
     "output_type": "stream",
     "text": [
      "              precision    recall  f1-score   support\n",
      "\n",
      "      Normal       1.00      1.00      1.00     19805\n",
      "    Abnormal       1.00      1.00      1.00     20287\n",
      "\n",
      "    accuracy                           1.00     40092\n",
      "   macro avg       1.00      1.00      1.00     40092\n",
      "weighted avg       1.00      1.00      1.00     40092\n",
      "\n"
     ]
    }
   ],
   "source": [
    "print(classification_report(y_test,xgbc_y_test, target_names = target_names))"
   ]
  },
  {
   "cell_type": "markdown",
   "id": "3b4e0579",
   "metadata": {},
   "source": [
    "## K Fold Cross Validation"
   ]
  },
  {
   "cell_type": "code",
   "execution_count": 71,
   "id": "c48cdf0d",
   "metadata": {},
   "outputs": [
    {
     "name": "stdout",
     "output_type": "stream",
     "text": [
      "Train Index:  [ 32074  32075  32076 ... 160364 160365 160366] \n",
      "\n",
      "Test Index:  [    0     1     2 ... 32071 32072 32073]\n",
      "[16:37:04] WARNING: C:/Users/Administrator/workspace/xgboost-win64_release_1.5.1/src/learner.cc:1115: Starting in XGBoost 1.3.0, the default evaluation metric used with the objective 'binary:logistic' was changed from 'error' to 'logloss'. Explicitly set eval_metric if you'd like to restore the old behavior.\n"
     ]
    },
    {
     "name": "stderr",
     "output_type": "stream",
     "text": [
      "c:\\users\\hebbar\\appdata\\local\\programs\\python\\python39\\lib\\site-packages\\xgboost\\sklearn.py:1224: UserWarning: The use of label encoder in XGBClassifier is deprecated and will be removed in a future release. To remove this warning, do the following: 1) Pass option use_label_encoder=False when constructing XGBClassifier object; and 2) Encode your labels (y) as integers starting with 0, i.e. 0, 1, 2, ..., [num_class - 1].\n",
      "  warnings.warn(label_encoder_deprecation_msg, UserWarning)\n"
     ]
    },
    {
     "name": "stdout",
     "output_type": "stream",
     "text": [
      "Train Index:  [     0      1      2 ... 160364 160365 160366] \n",
      "\n",
      "Test Index:  [32074 32075 32076 ... 64145 64146 64147]\n"
     ]
    },
    {
     "name": "stderr",
     "output_type": "stream",
     "text": [
      "c:\\users\\hebbar\\appdata\\local\\programs\\python\\python39\\lib\\site-packages\\xgboost\\sklearn.py:1224: UserWarning: The use of label encoder in XGBClassifier is deprecated and will be removed in a future release. To remove this warning, do the following: 1) Pass option use_label_encoder=False when constructing XGBClassifier object; and 2) Encode your labels (y) as integers starting with 0, i.e. 0, 1, 2, ..., [num_class - 1].\n",
      "  warnings.warn(label_encoder_deprecation_msg, UserWarning)\n"
     ]
    },
    {
     "name": "stdout",
     "output_type": "stream",
     "text": [
      "[16:37:11] WARNING: C:/Users/Administrator/workspace/xgboost-win64_release_1.5.1/src/learner.cc:1115: Starting in XGBoost 1.3.0, the default evaluation metric used with the objective 'binary:logistic' was changed from 'error' to 'logloss'. Explicitly set eval_metric if you'd like to restore the old behavior.\n",
      "Train Index:  [     0      1      2 ... 160364 160365 160366] \n",
      "\n",
      "Test Index:  [64148 64149 64150 ... 96218 96219 96220]\n"
     ]
    },
    {
     "name": "stderr",
     "output_type": "stream",
     "text": [
      "c:\\users\\hebbar\\appdata\\local\\programs\\python\\python39\\lib\\site-packages\\xgboost\\sklearn.py:1224: UserWarning: The use of label encoder in XGBClassifier is deprecated and will be removed in a future release. To remove this warning, do the following: 1) Pass option use_label_encoder=False when constructing XGBClassifier object; and 2) Encode your labels (y) as integers starting with 0, i.e. 0, 1, 2, ..., [num_class - 1].\n",
      "  warnings.warn(label_encoder_deprecation_msg, UserWarning)\n"
     ]
    },
    {
     "name": "stdout",
     "output_type": "stream",
     "text": [
      "[16:37:20] WARNING: C:/Users/Administrator/workspace/xgboost-win64_release_1.5.1/src/learner.cc:1115: Starting in XGBoost 1.3.0, the default evaluation metric used with the objective 'binary:logistic' was changed from 'error' to 'logloss'. Explicitly set eval_metric if you'd like to restore the old behavior.\n",
      "Train Index:  [     0      1      2 ... 160364 160365 160366] \n",
      "\n",
      "Test Index:  [ 96221  96222  96223 ... 128291 128292 128293]\n"
     ]
    },
    {
     "name": "stderr",
     "output_type": "stream",
     "text": [
      "c:\\users\\hebbar\\appdata\\local\\programs\\python\\python39\\lib\\site-packages\\xgboost\\sklearn.py:1224: UserWarning: The use of label encoder in XGBClassifier is deprecated and will be removed in a future release. To remove this warning, do the following: 1) Pass option use_label_encoder=False when constructing XGBClassifier object; and 2) Encode your labels (y) as integers starting with 0, i.e. 0, 1, 2, ..., [num_class - 1].\n",
      "  warnings.warn(label_encoder_deprecation_msg, UserWarning)\n"
     ]
    },
    {
     "name": "stdout",
     "output_type": "stream",
     "text": [
      "[16:37:36] WARNING: C:/Users/Administrator/workspace/xgboost-win64_release_1.5.1/src/learner.cc:1115: Starting in XGBoost 1.3.0, the default evaluation metric used with the objective 'binary:logistic' was changed from 'error' to 'logloss'. Explicitly set eval_metric if you'd like to restore the old behavior.\n",
      "Train Index:  [     0      1      2 ... 128291 128292 128293] \n",
      "\n",
      "Test Index:  [128294 128295 128296 ... 160364 160365 160366]\n"
     ]
    },
    {
     "name": "stderr",
     "output_type": "stream",
     "text": [
      "c:\\users\\hebbar\\appdata\\local\\programs\\python\\python39\\lib\\site-packages\\xgboost\\sklearn.py:1224: UserWarning: The use of label encoder in XGBClassifier is deprecated and will be removed in a future release. To remove this warning, do the following: 1) Pass option use_label_encoder=False when constructing XGBClassifier object; and 2) Encode your labels (y) as integers starting with 0, i.e. 0, 1, 2, ..., [num_class - 1].\n",
      "  warnings.warn(label_encoder_deprecation_msg, UserWarning)\n"
     ]
    },
    {
     "name": "stdout",
     "output_type": "stream",
     "text": [
      "[16:37:55] WARNING: C:/Users/Administrator/workspace/xgboost-win64_release_1.5.1/src/learner.cc:1115: Starting in XGBoost 1.3.0, the default evaluation metric used with the objective 'binary:logistic' was changed from 'error' to 'logloss'. Explicitly set eval_metric if you'd like to restore the old behavior.\n"
     ]
    }
   ],
   "source": [
    "\n",
    "xgbc_training_scores = []\n",
    "xgbc_testing_scores = []\n",
    "best_xgbc = XGBClassifier()\n",
    "cv = KFold(n_splits=5, shuffle=False)\n",
    "\n",
    "for train_index, test_index in cv.split(x):\n",
    "    print(\"Train Index: \", train_index, \"\\n\")\n",
    "    print(\"Test Index: \", test_index)\n",
    "\n",
    "    X_train, X_test, Y_train, Y_test = x[train_index], x[test_index], y[train_index], y[test_index]\n",
    "    best_xgbc.fit(X_train, Y_train)\n",
    "    xgbc_training_scores.append(best_xgbc.score(X_train, Y_train))\n",
    "    xgbc_testing_scores.append(best_xgbc.score(X_test, Y_test))\n"
   ]
  },
  {
   "cell_type": "code",
   "execution_count": 75,
   "id": "307ac93e",
   "metadata": {},
   "outputs": [
    {
     "data": {
      "text/plain": [
       "[0.9984956310944478,\n",
       " 0.9985190150670731,\n",
       " 0.9984176968525418,\n",
       " 0.9986749185464636,\n",
       " 0.9998674918546464]"
      ]
     },
     "execution_count": 75,
     "metadata": {},
     "output_type": "execute_result"
    }
   ],
   "source": [
    "xgbc_training_scores"
   ]
  },
  {
   "cell_type": "code",
   "execution_count": 76,
   "id": "98a59b8d",
   "metadata": {},
   "outputs": [
    {
     "data": {
      "text/plain": [
       "[0.9986905281536447,\n",
       " 0.9989087734613706,\n",
       " 0.9988775605649611,\n",
       " 0.9988775605649611,\n",
       " 0.9646119789230817]"
      ]
     },
     "execution_count": 76,
     "metadata": {},
     "output_type": "execute_result"
    }
   ],
   "source": [
    "xgbc_testing_scores"
   ]
  },
  {
   "cell_type": "code",
   "execution_count": 77,
   "id": "24ca2551",
   "metadata": {},
   "outputs": [
    {
     "name": "stdout",
     "output_type": "stream",
     "text": [
      "Average Accuracy for training data is :  0.9987949506830346\n",
      "Max Accuracy for training data is :  0.9998674918546464\n",
      "Average Accuracy for testing data is :  0.9919932803336039\n",
      "Max Accuracy for testing data is :  0.9989087734613706\n"
     ]
    }
   ],
   "source": [
    "xgbc_avg_train = mean(xgbc_training_scores)\n",
    "xgbc_avg_test = mean(xgbc_testing_scores)\n",
    "xgbc_max_train = max(xgbc_training_scores)\n",
    "xgbc_max_test = max(xgbc_testing_scores)\n",
    "print(\"Average Accuracy for training data is : \",xgbc_avg_train)\n",
    "print(\"Max Accuracy for training data is : \",xgbc_max_train)\n",
    "print(\"Average Accuracy for testing data is : \",xgbc_avg_test)\n",
    "print(\"Max Accuracy for testing data is : \",xgbc_max_test)"
   ]
  },
  {
   "cell_type": "code",
   "execution_count": null,
   "id": "2d6655a8",
   "metadata": {},
   "outputs": [],
   "source": []
  },
  {
   "cell_type": "code",
   "execution_count": null,
   "id": "6dc0d2ac",
   "metadata": {},
   "outputs": [],
   "source": []
  },
  {
   "cell_type": "code",
   "execution_count": null,
   "id": "89568597",
   "metadata": {},
   "outputs": [],
   "source": []
  },
  {
   "cell_type": "code",
   "execution_count": null,
   "id": "3e9bff64",
   "metadata": {},
   "outputs": [],
   "source": []
  },
  {
   "cell_type": "code",
   "execution_count": null,
   "id": "b6c0dec2",
   "metadata": {},
   "outputs": [],
   "source": []
  }
 ],
 "metadata": {
  "kernelspec": {
   "display_name": "Python 3 (ipykernel)",
   "language": "python",
   "name": "python3"
  },
  "language_info": {
   "codemirror_mode": {
    "name": "ipython",
    "version": 3
   },
   "file_extension": ".py",
   "mimetype": "text/x-python",
   "name": "python",
   "nbconvert_exporter": "python",
   "pygments_lexer": "ipython3",
   "version": "3.9.6"
  }
 },
 "nbformat": 4,
 "nbformat_minor": 5
}
