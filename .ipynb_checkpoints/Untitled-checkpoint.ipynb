{
 "cells": [
  {
   "cell_type": "code",
   "execution_count": 17,
   "id": "a1fe7b8e",
   "metadata": {},
   "outputs": [
    {
     "name": "stdout",
     "output_type": "stream",
     "text": [
      "3\n",
      "2\n",
      "1\n",
      "3\n",
      "5\n",
      "[3]\n"
     ]
    }
   ],
   "source": [
    "n = int(input())\n",
    "k = int(input())\n",
    "l=[]\n",
    "for i in range(n):\n",
    "    z = int(input())\n",
    "    l.append(z)\n",
    "\n",
    "s=[]\n",
    "\n",
    "def cal(x,k):\n",
    "    for i in range(x-k,x+k+1):\n",
    "        s.append(i)\n",
    "\n",
    "for i in l:\n",
    "    cal(i,k)\n",
    "\n",
    "res = []\n",
    "\n",
    "for i in s:\n",
    "    if s.count(i) >= n:\n",
    "        if i not in res:\n",
    "            res.append(i)\n",
    "print(res)\n",
    "    "
   ]
  },
  {
   "cell_type": "code",
   "execution_count": null,
   "id": "02d68af4",
   "metadata": {},
   "outputs": [],
   "source": []
  }
 ],
 "metadata": {
  "kernelspec": {
   "display_name": "Python 3 (ipykernel)",
   "language": "python",
   "name": "python3"
  },
  "language_info": {
   "codemirror_mode": {
    "name": "ipython",
    "version": 3
   },
   "file_extension": ".py",
   "mimetype": "text/x-python",
   "name": "python",
   "nbconvert_exporter": "python",
   "pygments_lexer": "ipython3",
   "version": "3.9.6"
  }
 },
 "nbformat": 4,
 "nbformat_minor": 5
}
