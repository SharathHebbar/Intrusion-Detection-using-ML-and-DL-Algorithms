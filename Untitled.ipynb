{
 "cells": [
  {
   "cell_type": "code",
   "execution_count": 2,
   "id": "a1fe7b8e",
   "metadata": {},
   "outputs": [
    {
     "name": "stdout",
     "output_type": "stream",
     "text": [
      "7\n",
      "12\n",
      "293\n",
      "17\n"
     ]
    }
   ],
   "source": [
    "b = int(input())\n",
    "e = int(input())\n",
    "m = int(input())\n",
    "\n",
    "print((b**e)%m)"
   ]
  },
  {
   "cell_type": "code",
   "execution_count": 21,
   "id": "02d68af4",
   "metadata": {},
   "outputs": [
    {
     "name": "stdout",
     "output_type": "stream",
     "text": [
      "12-12-1212 12-12-1212\n",
      "1\n"
     ]
    }
   ],
   "source": [
    "s = input()\n",
    "\n",
    "n=['1','2','3','4','5','6','7','8','9','0']\n",
    "num = []\n",
    "r=[]\n",
    "z=\"\"\n",
    "for i in s:\n",
    "    if i in n:\n",
    "        z+=i\n",
    "    if len(z) == 8:\n",
    "        v = z[4:]\n",
    "        num.append(int(v))\n",
    "        z = \"\"\n",
    "\n",
    "print(len(set(num)))"
   ]
  }
 ],
 "metadata": {
  "kernelspec": {
   "display_name": "Python 3 (ipykernel)",
   "language": "python",
   "name": "python3"
  },
  "language_info": {
   "codemirror_mode": {
    "name": "ipython",
    "version": 3
   },
   "file_extension": ".py",
   "mimetype": "text/x-python",
   "name": "python",
   "nbconvert_exporter": "python",
   "pygments_lexer": "ipython3",
   "version": "3.9.6"
  }
 },
 "nbformat": 4,
 "nbformat_minor": 5
}
